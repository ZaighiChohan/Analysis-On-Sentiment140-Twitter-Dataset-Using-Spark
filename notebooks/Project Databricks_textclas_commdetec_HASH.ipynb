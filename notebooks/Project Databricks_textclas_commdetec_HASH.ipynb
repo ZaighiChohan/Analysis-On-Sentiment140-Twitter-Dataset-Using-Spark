{
 "cells": [
  {
   "cell_type": "code",
   "execution_count": 0,
   "metadata": {
    "application/vnd.databricks.v1+cell": {
     "cellMetadata": {
      "byteLimit": 2048000,
      "rowLimit": 10000
     },
     "inputWidgets": {},
     "nuid": "d459f495-3287-4e77-b8d9-f097fb85753c",
     "showTitle": false,
     "tableResultSettingsMap": {},
     "title": ""
    }
   },
   "outputs": [],
   "source": [
    "\n",
    "import re\n",
    "import numpy as np\n",
    "import pandas as pd\n",
    "import seaborn as sns\n",
    "import nltk\n",
    "from wordcloud import WordCloud\n",
    "import matplotlib.pyplot as plt\n",
    "from nltk.stem.porter import PorterStemmer\n",
    "from nltk.corpus import stopwords\n",
    "from sklearn.model_selection import train_test_split\n",
    "from sklearn.feature_extraction.text import TfidfVectorizer\n",
    "from sklearn.linear_model import LogisticRegression\n",
    "from sklearn.metrics import accuracy_score\n",
    "import pickle"
   ]
  },
  {
   "cell_type": "code",
   "execution_count": 0,
   "metadata": {
    "application/vnd.databricks.v1+cell": {
     "cellMetadata": {
      "byteLimit": 2048000,
      "rowLimit": 10000
     },
     "inputWidgets": {},
     "nuid": "09462cb2-a7f8-4652-bddf-b7e3bf98e0a5",
     "showTitle": false,
     "tableResultSettingsMap": {},
     "title": ""
    }
   },
   "outputs": [
    {
     "output_type": "stream",
     "name": "stdout",
     "output_type": "stream",
     "text": [
      "Path To The Dataset /root/.cache/kagglehub/datasets/kazanova/sentiment140/versions/2\n['/root/.cache/kagglehub/datasets/kazanova/sentiment140/versions/2/training.1600000.processed.noemoticon.csv']\n+---+----------+--------------------+--------+---------------+--------------------+\n| ID|   TweetID|                Date|   Query|          Users|                Text|\n+---+----------+--------------------+--------+---------------+--------------------+\n|  0|1467810369|Mon Apr 06 22:19:...|NO_QUERY|_TheSpecialOne_|@switchfoot http:...|\n|  0|1467810672|Mon Apr 06 22:19:...|NO_QUERY|  scotthamilton|is upset that he ...|\n|  0|1467810917|Mon Apr 06 22:19:...|NO_QUERY|       mattycus|@Kenichan I dived...|\n|  0|1467811184|Mon Apr 06 22:19:...|NO_QUERY|        ElleCTF|my whole body fee...|\n|  0|1467811193|Mon Apr 06 22:19:...|NO_QUERY|         Karoli|@nationwideclass ...|\n|  0|1467811372|Mon Apr 06 22:20:...|NO_QUERY|       joy_wolf|@Kwesidei not the...|\n|  0|1467811592|Mon Apr 06 22:20:...|NO_QUERY|        mybirch|         Need a hug |\n|  0|1467811594|Mon Apr 06 22:20:...|NO_QUERY|           coZZ|@LOLTrish hey  lo...|\n|  0|1467811795|Mon Apr 06 22:20:...|NO_QUERY|2Hood4Hollywood|@Tatiana_K nope t...|\n|  0|1467812025|Mon Apr 06 22:20:...|NO_QUERY|        mimismo|@twittera que me ...|\n|  0|1467812416|Mon Apr 06 22:20:...|NO_QUERY| erinx3leannexo|spring break in p...|\n|  0|1467812579|Mon Apr 06 22:20:...|NO_QUERY|   pardonlauren|I just re-pierced...|\n|  0|1467812723|Mon Apr 06 22:20:...|NO_QUERY|           TLeC|@caregiving I cou...|\n|  0|1467812771|Mon Apr 06 22:20:...|NO_QUERY|robrobbierobert|@octolinz16 It it...|\n|  0|1467812784|Mon Apr 06 22:20:...|NO_QUERY|    bayofwolves|@smarrison i woul...|\n|  0|1467812799|Mon Apr 06 22:20:...|NO_QUERY|     HairByJess|@iamjazzyfizzle I...|\n|  0|1467812964|Mon Apr 06 22:20:...|NO_QUERY| lovesongwriter|Hollis' death sce...|\n|  0|1467813137|Mon Apr 06 22:20:...|NO_QUERY|       armotley|about to file taxes |\n|  0|1467813579|Mon Apr 06 22:20:...|NO_QUERY|     starkissed|@LettyA ahh ive a...|\n|  0|1467813782|Mon Apr 06 22:20:...|NO_QUERY|      gi_gi_bee|@FakerPattyPattz ...|\n+---+----------+--------------------+--------+---------------+--------------------+\nonly showing top 20 rows\n\n+--------+-----+\n|   USERS|count|\n+--------+-----+\n|lost_dog|  549|\n+--------+-----+\n\n+---+----------+-------------------+--------+---------------+--------------------+\n| ID|   TweetID|               Date|   Query|          Users|                Text|\n+---+----------+-------------------+--------+---------------+--------------------+\n|  0|1467810369|2009-04-07 05:19:45|NO_QUERY|_TheSpecialOne_|@switchfoot http:...|\n|  0|1467810672|2009-04-07 05:19:49|NO_QUERY|  scotthamilton|is upset that he ...|\n|  0|1467810917|2009-04-07 05:19:53|NO_QUERY|       mattycus|@Kenichan I dived...|\n|  0|1467811184|2009-04-07 05:19:57|NO_QUERY|        ElleCTF|my whole body fee...|\n|  0|1467811193|2009-04-07 05:19:57|NO_QUERY|         Karoli|@nationwideclass ...|\n|  0|1467811372|2009-04-07 05:20:00|NO_QUERY|       joy_wolf|@Kwesidei not the...|\n|  0|1467811592|2009-04-07 05:20:03|NO_QUERY|        mybirch|         Need a hug |\n|  0|1467811594|2009-04-07 05:20:03|NO_QUERY|           coZZ|@LOLTrish hey  lo...|\n|  0|1467811795|2009-04-07 05:20:05|NO_QUERY|2Hood4Hollywood|@Tatiana_K nope t...|\n|  0|1467812025|2009-04-07 05:20:09|NO_QUERY|        mimismo|@twittera que me ...|\n|  0|1467812416|2009-04-07 05:20:16|NO_QUERY| erinx3leannexo|spring break in p...|\n|  0|1467812579|2009-04-07 05:20:17|NO_QUERY|   pardonlauren|I just re-pierced...|\n|  0|1467812723|2009-04-07 05:20:19|NO_QUERY|           TLeC|@caregiving I cou...|\n|  0|1467812771|2009-04-07 05:20:19|NO_QUERY|robrobbierobert|@octolinz16 It it...|\n|  0|1467812784|2009-04-07 05:20:20|NO_QUERY|    bayofwolves|@smarrison i woul...|\n|  0|1467812799|2009-04-07 05:20:20|NO_QUERY|     HairByJess|@iamjazzyfizzle I...|\n|  0|1467812964|2009-04-07 05:20:22|NO_QUERY| lovesongwriter|Hollis' death sce...|\n|  0|1467813137|2009-04-07 05:20:25|NO_QUERY|       armotley|about to file taxes |\n|  0|1467813579|2009-04-07 05:20:31|NO_QUERY|     starkissed|@LettyA ahh ive a...|\n|  0|1467813782|2009-04-07 05:20:34|NO_QUERY|      gi_gi_bee|@FakerPattyPattz ...|\n+---+----------+-------------------+--------+---------------+--------------------+\nonly showing top 20 rows\n\n"
     ]
    }
   ],
   "source": [
    "#libraries\n",
    "import os \n",
    "import kagglehub\n",
    "from pyspark.sql.functions import desc\n",
    "\n",
    "#dataset path here:\n",
    "path = kagglehub.dataset_download(\"kazanova/sentiment140\")\n",
    "print(\"Path To The Dataset\",path)\n",
    "\n",
    "\n",
    "from os import listdir\n",
    "from os.path import isfile, join\n",
    "file_path = \"/root/.cache/kagglehub/datasets/kazanova/sentiment140/versions/2/\"  # Update the path if necessary\n",
    "onlyfiles = [path+\"/\"+f for f in listdir(path) if isfile(join(path,f))]\n",
    "print(onlyfiles)\n",
    "\n",
    "tweetDf =spark.read.csv('file:/root/.cache/kagglehub/datasets/kazanova/sentiment140/versions/2/training.1600000.processed.noemoticon.csv')\n",
    "tweetDf = (\n",
    "    tweetDf.withColumnRenamed(\"_c0\", \"ID\")\n",
    "           .withColumnRenamed(\"_c1\", \"TweetID\")\n",
    "           .withColumnRenamed(\"_c2\", \"Date\")\n",
    "           .withColumnRenamed(\"_c3\", \"Query\")\n",
    "           .withColumnRenamed(\"_c4\", \"Users\")\n",
    "           .withColumnRenamed(\"_c5\", \"Text\")\n",
    "          #added 1 new sentiment coloumn with 0=neg 4=positive\n",
    ")\n",
    "\n",
    "# Show the DataFrame\n",
    "tweetDf.show()\n",
    "\n",
    "\n",
    "#ordering by descending\n",
    "tweetDf.groupBy(\"USERS\").count().orderBy(desc(\"count\")).limit(1).show()\n",
    "\n",
    "\n",
    "spark.conf.set(\"spark.sql.legacy.timeParserPolicy\", \"LEGACY\")\n",
    "\n",
    "from pyspark.sql.functions import to_timestamp\n",
    "\n",
    "# Convert the string column to a timestamp\n",
    "tweetDf = tweetDf.withColumn(\"Date\", to_timestamp(tweetDf[\"Date\"], \"EEE MMM dd HH:mm:ss Z yyyy\"))\n",
    "\n",
    "tweetDf.show()\n",
    "\n",
    "\n",
    "\n",
    "#find the start and end date of the tweets \n",
    "from pyspark.sql.functions import min, max\n",
    "\n",
    "# Find the start and end dates\n",
    "date_range = tweetDf.agg(min(\"Date\").alias(\"Start_Date\"), max(\"Date\").alias(\"End_Date\"))\n",
    "date_range.show()\n",
    "\n",
    "\n"
   ]
  },
  {
   "cell_type": "code",
   "execution_count": 0,
   "metadata": {
    "application/vnd.databricks.v1+cell": {
     "cellMetadata": {
      "byteLimit": 2048000,
      "rowLimit": 10000
     },
     "inputWidgets": {},
     "nuid": "6ba12a68-3c89-46de-a3e6-67eccc56ec44",
     "showTitle": false,
     "tableResultSettingsMap": {},
     "title": ""
    }
   },
   "outputs": [
    {
     "output_type": "stream",
     "name": "stdout",
     "output_type": "stream",
     "text": [
      "+---+----------+-------------------+--------+---------------+--------------------+\n| ID|   TweetID|               Date|   Query|          Users|                Text|\n+---+----------+-------------------+--------+---------------+--------------------+\n|  0|1467810369|2009-04-07 05:19:45|NO_QUERY|_TheSpecialOne_|@switchfoot http:...|\n|  0|1467810672|2009-04-07 05:19:49|NO_QUERY|  scotthamilton|is upset that he ...|\n|  0|1467811184|2009-04-07 05:19:57|NO_QUERY|        ElleCTF|my whole body fee...|\n|  0|1467811193|2009-04-07 05:19:57|NO_QUERY|         Karoli|@nationwideclass ...|\n|  0|1467811372|2009-04-07 05:20:00|NO_QUERY|       joy_wolf|@Kwesidei not the...|\n|  0|1467811594|2009-04-07 05:20:03|NO_QUERY|           coZZ|@LOLTrish hey  lo...|\n|  0|1467812025|2009-04-07 05:20:09|NO_QUERY|        mimismo|@twittera que me ...|\n|  0|1467812416|2009-04-07 05:20:16|NO_QUERY| erinx3leannexo|spring break in p...|\n|  0|1467812579|2009-04-07 05:20:17|NO_QUERY|   pardonlauren|I just re-pierced...|\n|  0|1467812723|2009-04-07 05:20:19|NO_QUERY|           TLeC|@caregiving I cou...|\n|  0|1467812784|2009-04-07 05:20:20|NO_QUERY|    bayofwolves|@smarrison i woul...|\n|  0|1467812799|2009-04-07 05:20:20|NO_QUERY|     HairByJess|@iamjazzyfizzle I...|\n|  0|1467812964|2009-04-07 05:20:22|NO_QUERY| lovesongwriter|Hollis' death sce...|\n|  0|1467813137|2009-04-07 05:20:25|NO_QUERY|       armotley|about to file taxes |\n|  0|1467813579|2009-04-07 05:20:31|NO_QUERY|     starkissed|@LettyA ahh ive a...|\n|  0|1467813985|2009-04-07 05:20:37|NO_QUERY|         quanvu|@alydesigns i was...|\n|  0|1467813992|2009-04-07 05:20:38|NO_QUERY|     swinspeedx|one of my friend ...|\n|  0|1467814119|2009-04-07 05:20:40|NO_QUERY|      cooliodoc|@angry_barista I ...|\n|  0|1467814192|2009-04-07 05:20:41|NO_QUERY|     Ljelli3166|blagh class at 8 ...|\n|  0|1467814438|2009-04-07 05:20:44|NO_QUERY|  ChicagoCubbie|I hate when I hav...|\n+---+----------+-------------------+--------+---------------+--------------------+\nonly showing top 20 rows\n\n+---+----------+-------------------+--------+---------------+--------------------+\n| ID|   TweetID|               Date|   Query|          Users|                Text|\n+---+----------+-------------------+--------+---------------+--------------------+\n|  0|1467810917|2009-04-07 05:19:53|NO_QUERY|       mattycus|@Kenichan I dived...|\n|  0|1467811592|2009-04-07 05:20:03|NO_QUERY|        mybirch|         Need a hug |\n|  0|1467811795|2009-04-07 05:20:05|NO_QUERY|2Hood4Hollywood|@Tatiana_K nope t...|\n|  0|1467812771|2009-04-07 05:20:19|NO_QUERY|robrobbierobert|@octolinz16 It it...|\n|  0|1467813782|2009-04-07 05:20:34|NO_QUERY|      gi_gi_bee|@FakerPattyPattz ...|\n|  0|1467814180|2009-04-07 05:20:40|NO_QUERY|     viJILLante|this week is not ...|\n|  0|1467815753|2009-04-07 05:21:04|NO_QUERY|BaptisteTheFool|Meh... Almost Lov...|\n|  0|1467816749|2009-04-07 05:21:20|NO_QUERY| scarletletterm|ok I'm sick and s...|\n|  0|1467819650|2009-04-07 05:22:05|NO_QUERY|      antzpantz|@Viennah Yay! I'm...|\n|  0|1467819712|2009-04-07 05:22:06|NO_QUERY|      labrt2004|Just checked my u...|\n|  0|1467819812|2009-04-07 05:22:07|NO_QUERY|      IrisJumbe|Oh man...was iron...|\n|  0|1467820835|2009-04-07 05:22:25|NO_QUERY|       cyantist|@tea oh! i'm so s...|\n|  0|1467820906|2009-04-07 05:22:24|NO_QUERY|       voyage2k|@localtweeps Wow,...|\n|  0|1467821715|2009-04-07 05:22:37|NO_QUERY|         deelau|@andywana Not sur...|\n|  0|1467823437|2009-04-07 05:23:03|NO_QUERY|          xpika|The Life is cool....|\n|  0|1467825084|2009-04-07 05:23:30|NO_QUERY|  PresidentSnow|@Lt_Algonquin agr...|\n|  0|1467833736|2009-04-07 05:25:45|NO_QUERY|   MagicalMason|No new csi tonigh...|\n|  0|1467836873|2009-04-07 05:26:33|NO_QUERY|     LeakySpoon| Body Of Missing ...|\n|  0|1467838419|2009-04-07 05:27:00|NO_QUERY|      polarna10|@jacobsummers Sor...|\n|  0|1467839405|2009-04-07 05:27:15|NO_QUERY|Jonas_Dreamgirl|@HibaNick yeah aw...|\n+---+----------+-------------------+--------+---------------+--------------------+\nonly showing top 20 rows\n\n"
     ]
    },
    {
     "output_type": "display_data",
     "data": {
      "text/html": [
       "<style scoped>\n",
       "  .ansiout {\n",
       "    display: block;\n",
       "    unicode-bidi: embed;\n",
       "    white-space: pre-wrap;\n",
       "    word-wrap: break-word;\n",
       "    word-break: break-all;\n",
       "    font-family: \"Menlo\", \"Monaco\", \"Consolas\", \"Ubuntu Mono\", \"Source Code Pro\", monospace;\n",
       "    font-size: 13px;\n",
       "    color: #555;\n",
       "    margin-left: 4px;\n",
       "    line-height: 19px;\n",
       "  }\n",
       "</style>"
      ]
     },
     "metadata": {
      "application/vnd.databricks.v1+output": {
       "arguments": {},
       "data": "",
       "errorSummary": "",
       "errorTraceType": null,
       "metadata": {},
       "type": "ipynbError"
      }
     },
     "output_type": "display_data"
    }
   ],
   "source": [
    "# DATASET PREPROCESSING, SPLITTING \n",
    "\n",
    "trainData, testData = tweetDf.randomSplit([0.8, 0.2], seed=42)\n",
    "\n",
    "trainData.show()\n",
    "testData.show()"
   ]
  },
  {
   "cell_type": "code",
   "execution_count": 0,
   "metadata": {
    "application/vnd.databricks.v1+cell": {
     "cellMetadata": {
      "byteLimit": 2048000,
      "rowLimit": 10000
     },
     "inputWidgets": {},
     "nuid": "f41a7ed0-b347-4bff-be5b-c08ce026da2e",
     "showTitle": false,
     "tableResultSettingsMap": {},
     "title": ""
    }
   },
   "outputs": [
    {
     "output_type": "stream",
     "name": "stdout",
     "output_type": "stream",
     "text": [
      "+---+----------+-------------------+--------+---------------+--------------------+\n| ID|   TweetID|               Date|   Query|          Users|                Text|\n+---+----------+-------------------+--------+---------------+--------------------+\n|  0|1467810369|2009-04-07 05:19:45|NO_QUERY|_TheSpecialOne_|@switchfoot http:...|\n|  0|1467810672|2009-04-07 05:19:49|NO_QUERY|  scotthamilton|is upset that he ...|\n|  0|1467810917|2009-04-07 05:19:53|NO_QUERY|       mattycus|@Kenichan I dived...|\n|  0|1467811184|2009-04-07 05:19:57|NO_QUERY|        ElleCTF|my whole body fee...|\n|  0|1467811193|2009-04-07 05:19:57|NO_QUERY|         Karoli|@nationwideclass ...|\n|  0|1467811372|2009-04-07 05:20:00|NO_QUERY|       joy_wolf|@Kwesidei not the...|\n|  0|1467811592|2009-04-07 05:20:03|NO_QUERY|        mybirch|         Need a hug |\n|  0|1467811594|2009-04-07 05:20:03|NO_QUERY|           coZZ|@LOLTrish hey  lo...|\n|  0|1467811795|2009-04-07 05:20:05|NO_QUERY|2Hood4Hollywood|@Tatiana_K nope t...|\n|  0|1467812025|2009-04-07 05:20:09|NO_QUERY|        mimismo|@twittera que me ...|\n|  0|1467812416|2009-04-07 05:20:16|NO_QUERY| erinx3leannexo|spring break in p...|\n|  0|1467812579|2009-04-07 05:20:17|NO_QUERY|   pardonlauren|I just re-pierced...|\n|  0|1467812723|2009-04-07 05:20:19|NO_QUERY|           TLeC|@caregiving I cou...|\n|  0|1467812771|2009-04-07 05:20:19|NO_QUERY|robrobbierobert|@octolinz16 It it...|\n|  0|1467812784|2009-04-07 05:20:20|NO_QUERY|    bayofwolves|@smarrison i woul...|\n|  0|1467812799|2009-04-07 05:20:20|NO_QUERY|     HairByJess|@iamjazzyfizzle I...|\n|  0|1467812964|2009-04-07 05:20:22|NO_QUERY| lovesongwriter|Hollis' death sce...|\n|  0|1467813137|2009-04-07 05:20:25|NO_QUERY|       armotley|about to file taxes |\n|  0|1467813579|2009-04-07 05:20:31|NO_QUERY|     starkissed|@LettyA ahh ive a...|\n|  0|1467813782|2009-04-07 05:20:34|NO_QUERY|      gi_gi_bee|@FakerPattyPattz ...|\n+---+----------+-------------------+--------+---------------+--------------------+\nonly showing top 20 rows\n\n"
     ]
    },
    {
     "output_type": "display_data",
     "data": {
      "text/html": [
       "<style scoped>\n",
       "  .ansiout {\n",
       "    display: block;\n",
       "    unicode-bidi: embed;\n",
       "    white-space: pre-wrap;\n",
       "    word-wrap: break-word;\n",
       "    word-break: break-all;\n",
       "    font-family: \"Menlo\", \"Monaco\", \"Consolas\", \"Ubuntu Mono\", \"Source Code Pro\", monospace;\n",
       "    font-size: 13px;\n",
       "    color: #555;\n",
       "    margin-left: 4px;\n",
       "    line-height: 19px;\n",
       "  }\n",
       "</style>"
      ]
     },
     "metadata": {
      "application/vnd.databricks.v1+output": {
       "arguments": {},
       "data": "",
       "errorSummary": "",
       "errorTraceType": null,
       "metadata": {},
       "type": "ipynbError"
      }
     },
     "output_type": "display_data"
    }
   ],
   "source": [
    "tweetDf.show()"
   ]
  },
  {
   "cell_type": "code",
   "execution_count": 0,
   "metadata": {
    "application/vnd.databricks.v1+cell": {
     "cellMetadata": {
      "byteLimit": 2048000,
      "rowLimit": 10000
     },
     "inputWidgets": {},
     "nuid": "c81a221b-ab27-48f2-82f7-e4fb0b342a51",
     "showTitle": false,
     "tableResultSettingsMap": {},
     "title": ""
    }
   },
   "outputs": [
    {
     "output_type": "stream",
     "name": "stdout",
     "output_type": "stream",
     "text": [
      "+---+----------+-------------------+--------+---------------+--------------------+---------+\n| ID|   TweetID|               Date|   Query|          Users|                Text|Sentiment|\n+---+----------+-------------------+--------+---------------+--------------------+---------+\n|  0|1467810369|2009-04-07 05:19:45|NO_QUERY|_TheSpecialOne_|@switchfoot http:...|  neutral|\n|  0|1467810672|2009-04-07 05:19:49|NO_QUERY|  scotthamilton|is upset that he ...|  neutral|\n|  0|1467810917|2009-04-07 05:19:53|NO_QUERY|       mattycus|@Kenichan I dived...|  neutral|\n|  0|1467811184|2009-04-07 05:19:57|NO_QUERY|        ElleCTF|my whole body fee...|  neutral|\n|  0|1467811193|2009-04-07 05:19:57|NO_QUERY|         Karoli|@nationwideclass ...|  neutral|\n|  0|1467811372|2009-04-07 05:20:00|NO_QUERY|       joy_wolf|@Kwesidei not the...|  neutral|\n|  0|1467811592|2009-04-07 05:20:03|NO_QUERY|        mybirch|         Need a hug |  neutral|\n|  0|1467811594|2009-04-07 05:20:03|NO_QUERY|           coZZ|@LOLTrish hey  lo...|  neutral|\n|  0|1467811795|2009-04-07 05:20:05|NO_QUERY|2Hood4Hollywood|@Tatiana_K nope t...|  neutral|\n|  0|1467812025|2009-04-07 05:20:09|NO_QUERY|        mimismo|@twittera que me ...|  neutral|\n|  0|1467812416|2009-04-07 05:20:16|NO_QUERY| erinx3leannexo|spring break in p...|  neutral|\n|  0|1467812579|2009-04-07 05:20:17|NO_QUERY|   pardonlauren|I just re-pierced...|  neutral|\n|  0|1467812723|2009-04-07 05:20:19|NO_QUERY|           TLeC|@caregiving I cou...|  neutral|\n|  0|1467812771|2009-04-07 05:20:19|NO_QUERY|robrobbierobert|@octolinz16 It it...|  neutral|\n|  0|1467812784|2009-04-07 05:20:20|NO_QUERY|    bayofwolves|@smarrison i woul...|  neutral|\n|  0|1467812799|2009-04-07 05:20:20|NO_QUERY|     HairByJess|@iamjazzyfizzle I...|  neutral|\n|  0|1467812964|2009-04-07 05:20:22|NO_QUERY| lovesongwriter|Hollis' death sce...|  neutral|\n|  0|1467813137|2009-04-07 05:20:25|NO_QUERY|       armotley|about to file taxes |  neutral|\n|  0|1467813579|2009-04-07 05:20:31|NO_QUERY|     starkissed|@LettyA ahh ive a...|  neutral|\n|  0|1467813782|2009-04-07 05:20:34|NO_QUERY|      gi_gi_bee|@FakerPattyPattz ...|  neutral|\n+---+----------+-------------------+--------+---------------+--------------------+---------+\nonly showing top 20 rows\n\n"
     ]
    },
    {
     "output_type": "display_data",
     "data": {
      "text/html": [
       "<style scoped>\n",
       "  .ansiout {\n",
       "    display: block;\n",
       "    unicode-bidi: embed;\n",
       "    white-space: pre-wrap;\n",
       "    word-wrap: break-word;\n",
       "    word-break: break-all;\n",
       "    font-family: \"Menlo\", \"Monaco\", \"Consolas\", \"Ubuntu Mono\", \"Source Code Pro\", monospace;\n",
       "    font-size: 13px;\n",
       "    color: #555;\n",
       "    margin-left: 4px;\n",
       "    line-height: 19px;\n",
       "  }\n",
       "</style>"
      ]
     },
     "metadata": {
      "application/vnd.databricks.v1+output": {
       "arguments": {},
       "data": "",
       "errorSummary": "",
       "errorTraceType": null,
       "metadata": {},
       "type": "ipynbError"
      }
     },
     "output_type": "display_data"
    }
   ],
   "source": [
    "#this is the code for bert classifier of tweetDF dataset\n",
    "from pyspark.sql.functions import when\n",
    "\n",
    "# Adding a new column 'Sentiment' with values 'negative' for 0 and 'positive' for 4\n",
    "tweetDf = tweetDf.withColumn(\"Sentiment\", \n",
    "                             when(tweetDf[\"Query\"] == 0, \"negative\")\n",
    "                             .when(tweetDf[\"Query\"] == 4, \"positive\")\n",
    "                             .otherwise(\"neutral\"))\n",
    "\n",
    "# Show the DataFrame with the new Sentiment column\n",
    "tweetDf.show()\n"
   ]
  },
  {
   "cell_type": "code",
   "execution_count": 0,
   "metadata": {
    "application/vnd.databricks.v1+cell": {
     "cellMetadata": {
      "byteLimit": 2048000,
      "rowLimit": 10000
     },
     "inputWidgets": {},
     "nuid": "1a3f8d4e-e208-411d-bb0e-eeadf4856c10",
     "showTitle": false,
     "tableResultSettingsMap": {},
     "title": ""
    }
   },
   "outputs": [
    {
     "output_type": "stream",
     "name": "stdout",
     "output_type": "stream",
     "text": [
      "bert_base_sequence_classifier_imdb download started this may take some time.\nApproximate size to download 387.6 MB\n\r[ | ]\r[OK!]\n+------+\n|result|\n+------+\n|[neg] |\n|[neg] |\n|[neg] |\n|[neg] |\n|[pos] |\n|[neg] |\n|[neg] |\n|[pos] |\n|[neg] |\n|[pos] |\n|[neg] |\n|[neg] |\n|[neg] |\n|[neg] |\n|[neg] |\n|[pos] |\n|[neg] |\n|[neg] |\n|[pos] |\n|[neg] |\n+------+\nonly showing top 20 rows\n\n"
     ]
    },
    {
     "output_type": "display_data",
     "data": {
      "text/html": [
       "<style scoped>\n",
       "  .ansiout {\n",
       "    display: block;\n",
       "    unicode-bidi: embed;\n",
       "    white-space: pre-wrap;\n",
       "    word-wrap: break-word;\n",
       "    word-break: break-all;\n",
       "    font-family: \"Menlo\", \"Monaco\", \"Consolas\", \"Ubuntu Mono\", \"Source Code Pro\", monospace;\n",
       "    font-size: 13px;\n",
       "    color: #555;\n",
       "    margin-left: 4px;\n",
       "    line-height: 19px;\n",
       "  }\n",
       "</style>"
      ]
     },
     "metadata": {
      "application/vnd.databricks.v1+output": {
       "arguments": {},
       "data": "",
       "errorSummary": "",
       "errorTraceType": null,
       "metadata": {},
       "type": "ipynbError"
      }
     },
     "output_type": "display_data"
    }
   ],
   "source": [
    "# this is an example of bert classifier for text classification of one line\n",
    "\n",
    "from sparknlp.base import *\n",
    "from sparknlp.annotator import *\n",
    "from pyspark.ml import Pipeline\n",
    "\n",
    "# Assembling the document from the input text\n",
    "documentAssembler = DocumentAssembler() \\\n",
    "    .setInputCol(\"Text\") \\\n",
    "    .setOutputCol(\"document\")\n",
    "\n",
    "# Tokenizing the text\n",
    "tokenizer = Tokenizer() \\\n",
    "    .setInputCols([\"document\"]) \\\n",
    "    .setOutputCol(\"token\")\n",
    "\n",
    "# Loading a pre-trained sequence classification model\n",
    "# You can replace `BertForSequenceClassification.pretrained()` with your selected model \n",
    "# For example: BertForSequenceClassification.pretrained(\"distilbert_sequence_classifier_sst2\", \"en\")\n",
    "sequenceClassifier = BertForSequenceClassification.pretrained() \\\n",
    "    .setInputCols([\"token\", \"document\"]) \\\n",
    "    .setOutputCol(\"label\") \\\n",
    "    .setCaseSensitive(True)\n",
    "\n",
    "# Defining the pipeline with document assembler, tokenizer, and classifier\n",
    "pipeline = Pipeline().setStages([\n",
    "    documentAssembler,\n",
    "    tokenizer,\n",
    "    sequenceClassifier\n",
    "])\n",
    "\n",
    "\n",
    "# Fitting the pipeline and transforming the data\n",
    "result = pipeline.fit(tweetDf).transform(tweetDf)   #modify text classification code to add the tweetDf to process the result\n",
    "\n",
    "result.select(\"label.result\").show(truncate=False)\n",
    "#--------------------------------------\n",
    "\n",
    "\n",
    "\n",
    "\n",
    "\n"
   ]
  },
  {
   "cell_type": "code",
   "execution_count": 0,
   "metadata": {
    "application/vnd.databricks.v1+cell": {
     "cellMetadata": {
      "byteLimit": 2048000,
      "rowLimit": 10000
     },
     "inputWidgets": {},
     "nuid": "1f2a75ac-c015-436a-9686-64a15c9fde71",
     "showTitle": false,
     "tableResultSettingsMap": {},
     "title": ""
    }
   },
   "outputs": [
    {
     "output_type": "stream",
     "name": "stdout",
     "output_type": "stream",
     "text": [
      "File exists: /root/.cache/kagglehub/datasets/kazanova/sentiment140/versions/2/training.1600000.processed.noemoticon.csv\n"
     ]
    },
    {
     "output_type": "display_data",
     "data": {
      "text/html": [
       "<div>\n",
       "<style scoped>\n",
       "    .dataframe tbody tr th:only-of-type {\n",
       "        vertical-align: middle;\n",
       "    }\n",
       "\n",
       "    .dataframe tbody tr th {\n",
       "        vertical-align: top;\n",
       "    }\n",
       "\n",
       "    .dataframe thead th {\n",
       "        text-align: right;\n",
       "    }\n",
       "</style>\n",
       "<table border=\"1\" class=\"dataframe\">\n",
       "  <thead>\n",
       "    <tr style=\"text-align: right;\">\n",
       "      <th></th>\n",
       "      <th>target</th>\n",
       "      <th>id</th>\n",
       "      <th>date</th>\n",
       "      <th>flag</th>\n",
       "      <th>user</th>\n",
       "      <th>text</th>\n",
       "    </tr>\n",
       "  </thead>\n",
       "  <tbody>\n",
       "    <tr>\n",
       "      <th>1453204</th>\n",
       "      <td>4</td>\n",
       "      <td>2063209600</td>\n",
       "      <td>Sun Jun 07 01:46:15 PDT 2009</td>\n",
       "      <td>NO_QUERY</td>\n",
       "      <td>jamesplata</td>\n",
       "      <td>is tired but HAPPY.  http://plurk.com/p/z1a6a</td>\n",
       "    </tr>\n",
       "    <tr>\n",
       "      <th>839893</th>\n",
       "      <td>4</td>\n",
       "      <td>1559549434</td>\n",
       "      <td>Sun Apr 19 11:26:00 PDT 2009</td>\n",
       "      <td>NO_QUERY</td>\n",
       "      <td>beartwinsmom</td>\n",
       "      <td>@jasonmitchener You're most welcome!</td>\n",
       "    </tr>\n",
       "    <tr>\n",
       "      <th>443170</th>\n",
       "      <td>0</td>\n",
       "      <td>2067482767</td>\n",
       "      <td>Sun Jun 07 12:25:25 PDT 2009</td>\n",
       "      <td>NO_QUERY</td>\n",
       "      <td>soledaddl</td>\n",
       "      <td>@jisellex197 Yeah, I do.   I posted them on th...</td>\n",
       "    </tr>\n",
       "    <tr>\n",
       "      <th>1551772</th>\n",
       "      <td>4</td>\n",
       "      <td>2184207052</td>\n",
       "      <td>Mon Jun 15 15:34:29 PDT 2009</td>\n",
       "      <td>NO_QUERY</td>\n",
       "      <td>leviself</td>\n",
       "      <td>@atoponce I really wouldn't worry about a #col...</td>\n",
       "    </tr>\n",
       "    <tr>\n",
       "      <th>1250471</th>\n",
       "      <td>4</td>\n",
       "      <td>1996298206</td>\n",
       "      <td>Mon Jun 01 14:51:10 PDT 2009</td>\n",
       "      <td>NO_QUERY</td>\n",
       "      <td>BOSSBADDBEAUTY</td>\n",
       "      <td>BOUTTA LEAVE DA BX ON MII WAY 2 HARLEM WORLD.....</td>\n",
       "    </tr>\n",
       "  </tbody>\n",
       "</table>\n",
       "</div>"
      ]
     },
     "metadata": {
      "application/vnd.databricks.v1+output": {
       "addedWidgets": {},
       "arguments": {},
       "data": "<div>\n<style scoped>\n    .dataframe tbody tr th:only-of-type {\n        vertical-align: middle;\n    }\n\n    .dataframe tbody tr th {\n        vertical-align: top;\n    }\n\n    .dataframe thead th {\n        text-align: right;\n    }\n</style>\n<table border=\"1\" class=\"dataframe\">\n  <thead>\n    <tr style=\"text-align: right;\">\n      <th></th>\n      <th>target</th>\n      <th>id</th>\n      <th>date</th>\n      <th>flag</th>\n      <th>user</th>\n      <th>text</th>\n    </tr>\n  </thead>\n  <tbody>\n    <tr>\n      <th>1453204</th>\n      <td>4</td>\n      <td>2063209600</td>\n      <td>Sun Jun 07 01:46:15 PDT 2009</td>\n      <td>NO_QUERY</td>\n      <td>jamesplata</td>\n      <td>is tired but HAPPY.  http://plurk.com/p/z1a6a</td>\n    </tr>\n    <tr>\n      <th>839893</th>\n      <td>4</td>\n      <td>1559549434</td>\n      <td>Sun Apr 19 11:26:00 PDT 2009</td>\n      <td>NO_QUERY</td>\n      <td>beartwinsmom</td>\n      <td>@jasonmitchener You're most welcome!</td>\n    </tr>\n    <tr>\n      <th>443170</th>\n      <td>0</td>\n      <td>2067482767</td>\n      <td>Sun Jun 07 12:25:25 PDT 2009</td>\n      <td>NO_QUERY</td>\n      <td>soledaddl</td>\n      <td>@jisellex197 Yeah, I do.   I posted them on th...</td>\n    </tr>\n    <tr>\n      <th>1551772</th>\n      <td>4</td>\n      <td>2184207052</td>\n      <td>Mon Jun 15 15:34:29 PDT 2009</td>\n      <td>NO_QUERY</td>\n      <td>leviself</td>\n      <td>@atoponce I really wouldn't worry about a #col...</td>\n    </tr>\n    <tr>\n      <th>1250471</th>\n      <td>4</td>\n      <td>1996298206</td>\n      <td>Mon Jun 01 14:51:10 PDT 2009</td>\n      <td>NO_QUERY</td>\n      <td>BOSSBADDBEAUTY</td>\n      <td>BOUTTA LEAVE DA BX ON MII WAY 2 HARLEM WORLD.....</td>\n    </tr>\n  </tbody>\n</table>\n</div>",
       "datasetInfos": [],
       "metadata": {},
       "removedWidgets": [],
       "textData": null,
       "type": "htmlSandbox"
      }
     },
     "output_type": "display_data"
    },
    {
     "output_type": "display_data",
     "data": {
      "text/html": [
       "<style scoped>\n",
       "  .ansiout {\n",
       "    display: block;\n",
       "    unicode-bidi: embed;\n",
       "    white-space: pre-wrap;\n",
       "    word-wrap: break-word;\n",
       "    word-break: break-all;\n",
       "    font-family: \"Menlo\", \"Monaco\", \"Consolas\", \"Ubuntu Mono\", \"Source Code Pro\", monospace;\n",
       "    font-size: 13px;\n",
       "    color: #555;\n",
       "    margin-left: 4px;\n",
       "    line-height: 19px;\n",
       "  }\n",
       "</style>"
      ]
     },
     "metadata": {
      "application/vnd.databricks.v1+output": {
       "arguments": {},
       "data": "",
       "errorSummary": "",
       "errorTraceType": null,
       "metadata": {},
       "type": "ipynbError"
      }
     },
     "output_type": "display_data"
    }
   ],
   "source": [
    "# Check if the file exists\n",
    "import os\n",
    "\n",
    "file_path = \"/root/.cache/kagglehub/datasets/kazanova/sentiment140/versions/2/training.1600000.processed.noemoticon.csv\"\n",
    "\n",
    "if os.path.exists(file_path):\n",
    "    print(\"File exists:\", file_path)\n",
    "else:\n",
    "    print(\"File not found:\", file_path)\n",
    "\n",
    "\n",
    "import pandas as pd\n",
    "\n",
    "# Show the updated DataFrame\n",
    "DATASET_COLUMNS = ['target', 'id', 'date', 'flag', 'user', 'text']\n",
    "DATASET_ENCODING = \"ISO-8859-1\"\n",
    "df = pd.read_csv(file_path, encoding = DATASET_ENCODING, names = DATASET_COLUMNS)\n",
    "df.sample(5)"
   ]
  },
  {
   "cell_type": "code",
   "execution_count": 0,
   "metadata": {
    "application/vnd.databricks.v1+cell": {
     "cellMetadata": {
      "byteLimit": 2048000,
      "rowLimit": 10000
     },
     "inputWidgets": {},
     "nuid": "1fc5efd3-188b-4ef0-aebc-7a91b75aa601",
     "showTitle": false,
     "tableResultSettingsMap": {},
     "title": ""
    }
   },
   "outputs": [
    {
     "output_type": "stream",
     "name": "stdout",
     "output_type": "stream",
     "text": [
      "Out[9]: Index(['target', 'id', 'date', 'flag', 'user', 'text'], dtype='object')"
     ]
    },
    {
     "output_type": "display_data",
     "data": {
      "text/html": [
       "<style scoped>\n",
       "  .ansiout {\n",
       "    display: block;\n",
       "    unicode-bidi: embed;\n",
       "    white-space: pre-wrap;\n",
       "    word-wrap: break-word;\n",
       "    word-break: break-all;\n",
       "    font-family: \"Menlo\", \"Monaco\", \"Consolas\", \"Ubuntu Mono\", \"Source Code Pro\", monospace;\n",
       "    font-size: 13px;\n",
       "    color: #555;\n",
       "    margin-left: 4px;\n",
       "    line-height: 19px;\n",
       "  }\n",
       "</style>"
      ]
     },
     "metadata": {
      "application/vnd.databricks.v1+output": {
       "arguments": {},
       "data": "",
       "errorSummary": "",
       "errorTraceType": null,
       "metadata": {},
       "type": "ipynbError"
      }
     },
     "output_type": "display_data"
    }
   ],
   "source": [
    "df.columns"
   ]
  },
  {
   "cell_type": "code",
   "execution_count": 0,
   "metadata": {
    "application/vnd.databricks.v1+cell": {
     "cellMetadata": {
      "byteLimit": 2048000,
      "rowLimit": 10000
     },
     "inputWidgets": {},
     "nuid": "024b6694-8255-49cf-b5c2-a7faed1861c4",
     "showTitle": false,
     "tableResultSettingsMap": {},
     "title": ""
    }
   },
   "outputs": [
    {
     "output_type": "stream",
     "name": "stdout",
     "output_type": "stream",
     "text": [
      "Length of the data is:  1600000\n<class 'pandas.core.frame.DataFrame'>\nRangeIndex: 1600000 entries, 0 to 1599999\nData columns (total 6 columns):\n #   Column  Non-Null Count    Dtype \n---  ------  --------------    ----- \n 0   target  1600000 non-null  int64 \n 1   id      1600000 non-null  int64 \n 2   date    1600000 non-null  object\n 3   flag    1600000 non-null  object\n 4   user    1600000 non-null  object\n 5   text    1600000 non-null  object\ndtypes: int64(2), object(4)\nmemory usage: 73.2+ MB\nOut[10]: 0"
     ]
    },
    {
     "output_type": "display_data",
     "data": {
      "text/html": [
       "<style scoped>\n",
       "  .ansiout {\n",
       "    display: block;\n",
       "    unicode-bidi: embed;\n",
       "    white-space: pre-wrap;\n",
       "    word-wrap: break-word;\n",
       "    word-break: break-all;\n",
       "    font-family: \"Menlo\", \"Monaco\", \"Consolas\", \"Ubuntu Mono\", \"Source Code Pro\", monospace;\n",
       "    font-size: 13px;\n",
       "    color: #555;\n",
       "    margin-left: 4px;\n",
       "    line-height: 19px;\n",
       "  }\n",
       "</style>"
      ]
     },
     "metadata": {
      "application/vnd.databricks.v1+output": {
       "arguments": {},
       "data": "",
       "errorSummary": "",
       "errorTraceType": null,
       "metadata": {},
       "type": "ipynbError"
      }
     },
     "output_type": "display_data"
    }
   ],
   "source": [
    "print('Length of the data is: ', len(df))\n",
    "df.shape\n",
    "df.info()\n",
    "df.dtypes\n",
    "\n",
    "np.sum(df.isnull().any(axis = 1))"
   ]
  },
  {
   "cell_type": "code",
   "execution_count": 0,
   "metadata": {
    "application/vnd.databricks.v1+cell": {
     "cellMetadata": {
      "byteLimit": 2048000,
      "rowLimit": 10000
     },
     "inputWidgets": {},
     "nuid": "0674de29-90af-4de2-983c-4f3727f7996a",
     "showTitle": false,
     "tableResultSettingsMap": {},
     "title": ""
    }
   },
   "outputs": [
    {
     "output_type": "display_data",
     "data": {
      "image/png": "[encoded data removed]"
     },
     "metadata": {
      "application/vnd.databricks.v1+output": {
       "addedWidgets": {},
       "arguments": {},
       "data": "data:image/png;base64,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\n",
       "datasetInfos": [],
       "metadata": {},
       "removedWidgets": [],
       "type": "image"
      }
     },
     "output_type": "display_data"
    },
    {
     "output_type": "display_data",
     "data": {
      "text/html": [
       "<style scoped>\n",
       "  .ansiout {\n",
       "    display: block;\n",
       "    unicode-bidi: embed;\n",
       "    white-space: pre-wrap;\n",
       "    word-wrap: break-word;\n",
       "    word-break: break-all;\n",
       "    font-family: \"Menlo\", \"Monaco\", \"Consolas\", \"Ubuntu Mono\", \"Source Code Pro\", monospace;\n",
       "    font-size: 13px;\n",
       "    color: #555;\n",
       "    margin-left: 4px;\n",
       "    line-height: 19px;\n",
       "  }\n",
       "</style>"
      ]
     },
     "metadata": {
      "application/vnd.databricks.v1+output": {
       "arguments": {},
       "data": "",
       "errorSummary": "",
       "errorTraceType": null,
       "metadata": {},
       "type": "ipynbError"
      }
     },
     "output_type": "display_data"
    }
   ],
   "source": [
    "\n",
    "# Plotting the distribution of dataset\n",
    "\n",
    "ax = df.groupby('target').count().plot(kind = 'bar', title = 'Distribution of Data', legend = False)\n",
    "ax.set_xticklabels(['Negative', 'Positive'], rotation = 0)\n",
    "\n",
    "# Storing data in Lists\n",
    "\n",
    "text, sentiment = list(df['text']), list(df['target'])\n",
    "\n",
    "# Saving the figure\n",
    "\n",
    "plt.savefig('Distribution_of_Data', bbox_inches = 'tight')\n",
    "\n",
    "\n",
    "\n",
    "\n",
    "sns.countplot(x = 'target', data = df)\n",
    "\n",
    "# Save the figure\n",
    "plt.savefig('target', bbox_inches = 'tight')"
   ]
  },
  {
   "cell_type": "code",
   "execution_count": 0,
   "metadata": {
    "application/vnd.databricks.v1+cell": {
     "cellMetadata": {
      "byteLimit": 2048000,
      "rowLimit": 10000
     },
     "inputWidgets": {},
     "nuid": "2aa3b4d0-36d7-42e8-ac03-5b6ba4461965",
     "showTitle": false,
     "tableResultSettingsMap": {},
     "title": ""
    }
   },
   "outputs": [
    {
     "output_type": "stream",
     "name": "stderr",
     "output_type": "stream",
     "text": [
      "<command-168538362967382>:5: SettingWithCopyWarning: \nA value is trying to be set on a copy of a slice from a DataFrame.\nTry using .loc[row_indexer,col_indexer] = value instead\n\nSee the caveats in the documentation: https://pandas.pydata.org/pandas-docs/stable/user_guide/indexing.html#returning-a-view-versus-a-copy\n  data['target'] = data['target'].replace(4, 1)\n"
     ]
    },
    {
     "output_type": "stream",
     "name": "stdout",
     "output_type": "stream",
     "text": [
      "Out[12]: 19995    not much time off this weekend, work trip to m...\n19996                            one more day of holidays \n19997    feeling so down right now .. i hate you damn h...\n19998    geez,i hv to read the whole book of personalit...\n19999    i threw my sign at donnie and he bent over to ...\nName: text, dtype: object"
     ]
    },
    {
     "output_type": "display_data",
     "data": {
      "text/html": [
       "<style scoped>\n",
       "  .ansiout {\n",
       "    display: block;\n",
       "    unicode-bidi: embed;\n",
       "    white-space: pre-wrap;\n",
       "    word-wrap: break-word;\n",
       "    word-break: break-all;\n",
       "    font-family: \"Menlo\", \"Monaco\", \"Consolas\", \"Ubuntu Mono\", \"Source Code Pro\", monospace;\n",
       "    font-size: 13px;\n",
       "    color: #555;\n",
       "    margin-left: 4px;\n",
       "    line-height: 19px;\n",
       "  }\n",
       "</style>"
      ]
     },
     "metadata": {
      "application/vnd.databricks.v1+output": {
       "arguments": {},
       "data": "",
       "errorSummary": "",
       "errorTraceType": null,
       "metadata": {},
       "type": "ipynbError"
      }
     },
     "output_type": "display_data"
    }
   ],
   "source": [
    "# Selecting the text and Target Column for our further analysis \n",
    "data = df[['text', 'target']]\n",
    "\n",
    "# Replacing the values for easy understanding [Assigning 1 to positive sentiment 4]\n",
    "data['target'] = data['target'].replace(4, 1)\n",
    "\n",
    "# Print unique values of target variables\n",
    "data['target'].unique()\n",
    "\n",
    "# Separating Positive and Negative tweets\n",
    "data_pos = data[data['target'] == 1]\n",
    "data_neg = data[data['target'] == 0]\n",
    "\n",
    "\n",
    "# Taking 1/4th data for easy processing\n",
    "data_pos = data_pos.iloc[:int(20000)]\n",
    "data_neg = data_neg.iloc[:int(20000)]\n",
    "\n",
    "# Combining Positive and Negative tweets\n",
    "dataset = pd.concat([data_pos, data_neg])\n",
    "\n",
    "# Making all the text[tweets] in lowercase\n",
    "dataset['text'] = dataset['text'].str.lower()\n",
    "dataset['text'].tail()"
   ]
  },
  {
   "cell_type": "code",
   "execution_count": 0,
   "metadata": {
    "application/vnd.databricks.v1+cell": {
     "cellMetadata": {
      "byteLimit": 2048000,
      "rowLimit": 10000
     },
     "inputWidgets": {},
     "nuid": "813972bb-4f00-4f77-b400-98f1f5df4171",
     "showTitle": false,
     "tableResultSettingsMap": {},
     "title": ""
    }
   },
   "outputs": [
    {
     "output_type": "stream",
     "name": "stdout",
     "output_type": "stream",
     "text": [
      "Out[13]: 19995    not much time off weekend work trip malmï¿½ fr...\n19996                                     one day holidays\n19997                     feeling right  hate damn humprey\n19998    geezi hv read whole book personality types emb...\n19999    threw sign donnie bent over get but thingee ma...\nName: text, dtype: object"
     ]
    },
    {
     "output_type": "display_data",
     "data": {
      "text/html": [
       "<style scoped>\n",
       "  .ansiout {\n",
       "    display: block;\n",
       "    unicode-bidi: embed;\n",
       "    white-space: pre-wrap;\n",
       "    word-wrap: break-word;\n",
       "    word-break: break-all;\n",
       "    font-family: \"Menlo\", \"Monaco\", \"Consolas\", \"Ubuntu Mono\", \"Source Code Pro\", monospace;\n",
       "    font-size: 13px;\n",
       "    color: #555;\n",
       "    margin-left: 4px;\n",
       "    line-height: 19px;\n",
       "  }\n",
       "</style>"
      ]
     },
     "metadata": {
      "application/vnd.databricks.v1+output": {
       "arguments": {},
       "data": "",
       "errorSummary": "",
       "errorTraceType": null,
       "metadata": {},
       "type": "ipynbError"
      }
     },
     "output_type": "display_data"
    }
   ],
   "source": [
    "#stopwords removal\n",
    "stopwordList = ['a', 'about', 'above', 'after', 'again', 'ain', 'all', 'am', 'an',\n",
    "             'and','any','are', 'as', 'at', 'be', 'because', 'been', 'before',\n",
    "             'being', 'below', 'between','both', 'by', 'can', 'd', 'did', 'do',\n",
    "             'does', 'doing', 'down', 'during', 'each','few', 'for', 'from',\n",
    "             'further', 'had', 'has', 'have', 'having', 'he', 'her', 'here',\n",
    "             'hers', 'herself', 'him', 'himself', 'his', 'how', 'i', 'if', 'in',\n",
    "             'into','is', 'it', 'its', 'itself', 'just', 'll', 'm', 'ma',\n",
    "             'me', 'more', 'most','my', 'myself', 'now', 'o', 'of', 'on', 'once',\n",
    "             'only', 'or', 'other', 'our', 'ours','ourselves', 'out', 'own', 're','s', 'same', 'she', \"shes\", 'should', \"shouldve\",'so', 'some', 'such',\n",
    "             't', 'than', 'that', \"thatll\", 'the', 'their', 'theirs', 'them',\n",
    "             'themselves', 'then', 'there', 'these', 'they', 'this', 'those',\n",
    "             'through', 'to', 'too','under', 'until', 'up', 've', 'very', 'was',\n",
    "             'we', 'were', 'what', 'when', 'where','which','while', 'who', 'whom',\n",
    "             'why', 'will', 'with', 'won', 'y', 'you', \"youd\",\"youll\", \"youre\",\n",
    "             \"youve\", 'your', 'yours', 'yourself', 'yourselves']\n",
    "\n",
    "\n",
    "# Cleaning and removing the above stopwords list from the tweets\n",
    "STOPWORDS = set(stopwordList)\n",
    "def cleaning_stopwords(text):\n",
    "    return \" \".join([word for word in str(text).split() if word not in STOPWORDS])\n",
    "dataset['text'] = dataset['text'].apply(lambda text: cleaning_stopwords(text))\n",
    "dataset['text'].head()      \n",
    "\n",
    "\n",
    "\n",
    "# Cleaning and removing punctuations\n",
    "import string\n",
    "english_punctuations = string.punctuation\n",
    "punctuation_list = english_punctuations\n",
    "def cleaning_punctuations(text):\n",
    "    translator = str.maketrans('', '', punctuation_list)\n",
    "    return text.translate(translator)\n",
    "dataset['text'] = dataset['text'].apply(lambda x: cleaning_punctuations(x))\n",
    "dataset['text'].tail()"
   ]
  },
  {
   "cell_type": "code",
   "execution_count": 0,
   "metadata": {
    "application/vnd.databricks.v1+cell": {
     "cellMetadata": {
      "byteLimit": 2048000,
      "rowLimit": 10000
     },
     "inputWidgets": {},
     "nuid": "ed8e46f0-2ed7-44f2-bdbc-1362066b0e39",
     "showTitle": false,
     "tableResultSettingsMap": {},
     "title": ""
    }
   },
   "outputs": [
    {
     "output_type": "stream",
     "name": "stdout",
     "output_type": "stream",
     "text": [
      "['i', 'me', 'my', 'myself', 'we', 'our', 'ours', 'ourselves', 'you', \"you're\", \"you've\", \"you'll\", \"you'd\", 'your', 'yours', 'yourself', 'yourselves', 'he', 'him', 'his', 'himself', 'she', \"she's\", 'her', 'hers', 'herself', 'it', \"it's\", 'its', 'itself', 'they', 'them', 'their', 'theirs', 'themselves', 'what', 'which', 'who', 'whom', 'this', 'that', \"that'll\", 'these', 'those', 'am', 'is', 'are', 'was', 'were', 'be', 'been', 'being', 'have', 'has', 'had', 'having', 'do', 'does', 'did', 'doing', 'a', 'an', 'the', 'and', 'but', 'if', 'or', 'because', 'as', 'until', 'while', 'of', 'at', 'by', 'for', 'with', 'about', 'against', 'between', 'into', 'through', 'during', 'before', 'after', 'above', 'below', 'to', 'from', 'up', 'down', 'in', 'out', 'on', 'off', 'over', 'under', 'again', 'further', 'then', 'once', 'here', 'there', 'when', 'where', 'why', 'how', 'all', 'any', 'both', 'each', 'few', 'more', 'most', 'other', 'some', 'such', 'no', 'nor', 'not', 'only', 'own', 'same', 'so', 'than', 'too', 'very', 's', 't', 'can', 'will', 'just', 'don', \"don't\", 'should', \"should've\", 'now', 'd', 'll', 'm', 'o', 're', 've', 'y', 'ain', 'aren', \"aren't\", 'couldn', \"couldn't\", 'didn', \"didn't\", 'doesn', \"doesn't\", 'hadn', \"hadn't\", 'hasn', \"hasn't\", 'haven', \"haven't\", 'isn', \"isn't\", 'ma', 'mightn', \"mightn't\", 'mustn', \"mustn't\", 'needn', \"needn't\", 'shan', \"shan't\", 'shouldn', \"shouldn't\", 'wasn', \"wasn't\", 'weren', \"weren't\", 'won', \"won't\", 'wouldn', \"wouldn't\"]\n"
     ]
    },
    {
     "output_type": "stream",
     "name": "stderr",
     "output_type": "stream",
     "text": [
      "[nltk_data] Downloading package stopwords to /root/nltk_data...\n[nltk_data]   Package stopwords is already up-to-date!\n"
     ]
    },
    {
     "output_type": "display_data",
     "data": {
      "text/html": [
       "<style scoped>\n",
       "  .ansiout {\n",
       "    display: block;\n",
       "    unicode-bidi: embed;\n",
       "    white-space: pre-wrap;\n",
       "    word-wrap: break-word;\n",
       "    word-break: break-all;\n",
       "    font-family: \"Menlo\", \"Monaco\", \"Consolas\", \"Ubuntu Mono\", \"Source Code Pro\", monospace;\n",
       "    font-size: 13px;\n",
       "    color: #555;\n",
       "    margin-left: 4px;\n",
       "    line-height: 19px;\n",
       "  }\n",
       "</style>"
      ]
     },
     "metadata": {
      "application/vnd.databricks.v1+output": {
       "arguments": {},
       "data": "",
       "errorSummary": "",
       "errorTraceType": null,
       "metadata": {},
       "type": "ipynbError"
      }
     },
     "output_type": "display_data"
    }
   ],
   "source": [
    "\n",
    "nltk.download('stopwords')\n",
    "print(stopwords.words('english'))\n"
   ]
  },
  {
   "cell_type": "code",
   "execution_count": 0,
   "metadata": {
    "application/vnd.databricks.v1+cell": {
     "cellMetadata": {
      "byteLimit": 2048000,
      "rowLimit": 10000
     },
     "inputWidgets": {},
     "nuid": "8d06739e-45f0-4ebe-af79-39a1fc78cdc8",
     "showTitle": false,
     "tableResultSettingsMap": {},
     "title": ""
    }
   },
   "outputs": [
    {
     "output_type": "display_data",
     "data": {
      "text/html": [
       "<div>\n",
       "<style scoped>\n",
       "    .dataframe tbody tr th:only-of-type {\n",
       "        vertical-align: middle;\n",
       "    }\n",
       "\n",
       "    .dataframe tbody tr th {\n",
       "        vertical-align: top;\n",
       "    }\n",
       "\n",
       "    .dataframe thead th {\n",
       "        text-align: right;\n",
       "    }\n",
       "</style>\n",
       "<table border=\"1\" class=\"dataframe\">\n",
       "  <thead>\n",
       "    <tr style=\"text-align: right;\">\n",
       "      <th></th>\n",
       "      <th>text</th>\n",
       "      <th>target</th>\n",
       "      <th>stemmed_content</th>\n",
       "    </tr>\n",
       "  </thead>\n",
       "  <tbody>\n",
       "    <tr>\n",
       "      <th>800000</th>\n",
       "      <td>love health4uandpets u guys r best</td>\n",
       "      <td>1</td>\n",
       "      <td>love health4uandpet u guy r best</td>\n",
       "    </tr>\n",
       "    <tr>\n",
       "      <th>800001</th>\n",
       "      <td>im meeting one besties tonight cant wait  girl...</td>\n",
       "      <td>1</td>\n",
       "      <td>im meet one besti tonight cant wait girl talk</td>\n",
       "    </tr>\n",
       "    <tr>\n",
       "      <th>800002</th>\n",
       "      <td>darealsunisakim thanks twitter add sunisa got ...</td>\n",
       "      <td>1</td>\n",
       "      <td>darealsunisakim thank twitter add sunisa got m...</td>\n",
       "    </tr>\n",
       "    <tr>\n",
       "      <th>800003</th>\n",
       "      <td>sick really cheap hurts much eat real food plu...</td>\n",
       "      <td>1</td>\n",
       "      <td>sick realli cheap hurt much eat real food plus...</td>\n",
       "    </tr>\n",
       "    <tr>\n",
       "      <th>800004</th>\n",
       "      <td>lovesbrooklyn2 effect everyone</td>\n",
       "      <td>1</td>\n",
       "      <td>lovesbrooklyn2 effect everyon</td>\n",
       "    </tr>\n",
       "  </tbody>\n",
       "</table>\n",
       "</div>"
      ]
     },
     "metadata": {
      "application/vnd.databricks.v1+output": {
       "addedWidgets": {},
       "arguments": {},
       "data": "<div>\n<style scoped>\n    .dataframe tbody tr th:only-of-type {\n        vertical-align: middle;\n    }\n\n    .dataframe tbody tr th {\n        vertical-align: top;\n    }\n\n    .dataframe thead th {\n        text-align: right;\n    }\n</style>\n<table border=\"1\" class=\"dataframe\">\n  <thead>\n    <tr style=\"text-align: right;\">\n      <th></th>\n      <th>text</th>\n      <th>target</th>\n      <th>stemmed_content</th>\n    </tr>\n  </thead>\n  <tbody>\n    <tr>\n      <th>800000</th>\n      <td>love health4uandpets u guys r best</td>\n      <td>1</td>\n      <td>love health4uandpet u guy r best</td>\n    </tr>\n    <tr>\n      <th>800001</th>\n      <td>im meeting one besties tonight cant wait  girl...</td>\n      <td>1</td>\n      <td>im meet one besti tonight cant wait girl talk</td>\n    </tr>\n    <tr>\n      <th>800002</th>\n      <td>darealsunisakim thanks twitter add sunisa got ...</td>\n      <td>1</td>\n      <td>darealsunisakim thank twitter add sunisa got m...</td>\n    </tr>\n    <tr>\n      <th>800003</th>\n      <td>sick really cheap hurts much eat real food plu...</td>\n      <td>1</td>\n      <td>sick realli cheap hurt much eat real food plus...</td>\n    </tr>\n    <tr>\n      <th>800004</th>\n      <td>lovesbrooklyn2 effect everyone</td>\n      <td>1</td>\n      <td>lovesbrooklyn2 effect everyon</td>\n    </tr>\n  </tbody>\n</table>\n</div>",
       "datasetInfos": [],
       "metadata": {},
       "removedWidgets": [],
       "textData": null,
       "type": "htmlSandbox"
      }
     },
     "output_type": "display_data"
    },
    {
     "output_type": "display_data",
     "data": {
      "text/html": [
       "<style scoped>\n",
       "  .ansiout {\n",
       "    display: block;\n",
       "    unicode-bidi: embed;\n",
       "    white-space: pre-wrap;\n",
       "    word-wrap: break-word;\n",
       "    word-break: break-all;\n",
       "    font-family: \"Menlo\", \"Monaco\", \"Consolas\", \"Ubuntu Mono\", \"Source Code Pro\", monospace;\n",
       "    font-size: 13px;\n",
       "    color: #555;\n",
       "    margin-left: 4px;\n",
       "    line-height: 19px;\n",
       "  }\n",
       "</style>"
      ]
     },
     "metadata": {
      "application/vnd.databricks.v1+output": {
       "arguments": {},
       "data": "",
       "errorSummary": "",
       "errorTraceType": null,
       "metadata": {},
       "type": "ipynbError"
      }
     },
     "output_type": "display_data"
    }
   ],
   "source": [
    "# checking the distribution of target column\n",
    "dataset['target'].value_counts()\n",
    "\n",
    "dataset.replace({'target':{4:1}}, inplace =True)    # 0 --> Negative Tweet ,  1 --> Positive Tweeet\n",
    "\n",
    "port_steam = PorterStemmer()\n",
    "\n",
    "\n",
    "def stemming(content):\n",
    "    stemmer = nltk.SnowballStemmer('english')\n",
    "    stemmed_content = content.lower()\n",
    "    stemmed_content = stemmed_content.split()\n",
    "    stemmed_content = [stemmer.stem(word) for word in stemmed_content if not word in stopwords.words('english')]\n",
    "    stemmed_content = ' '.join(stemmed_content)\n",
    "    return stemmed_content\n",
    "\n",
    "dataset['stemmed_content'] = dataset['text'].apply(stemming) #50 min to wait for this execution\n",
    "dataset.head()\n",
    "\n"
   ]
  },
  {
   "cell_type": "code",
   "execution_count": 0,
   "metadata": {
    "application/vnd.databricks.v1+cell": {
     "cellMetadata": {
      "byteLimit": 2048000,
      "rowLimit": 10000
     },
     "inputWidgets": {},
     "nuid": "78115e94-f5b4-4ebb-8689-d85dd2b23b6b",
     "showTitle": false,
     "tableResultSettingsMap": {},
     "title": ""
    }
   },
   "outputs": [
    {
     "output_type": "stream",
     "name": "stdout",
     "output_type": "stream",
     "text": [
      "800000                     love health4uandpet u guy r best\n800001        im meet one besti tonight cant wait girl talk\n800002    darealsunisakim thank twitter add sunisa got m...\n800003    sick realli cheap hurt much eat real food plus...\n800004                        lovesbrooklyn2 effect everyon\n                                ...                        \n19995     much time weekend work trip malmï¿½ frisat tod...\n19996                                       one day holiday\n19997                          feel right hate damn humprey\n19998     geezi hv read whole book person type embark ty...\n19999        threw sign donni bent get thinge made sad face\nName: stemmed_content, Length: 40000, dtype: object\n800000    1\n800001    1\n800002    1\n800003    1\n800004    1\n         ..\n19995     0\n19996     0\n19997     0\n19998     0\n19999     0\nName: target, Length: 40000, dtype: int64\n"
     ]
    },
    {
     "output_type": "display_data",
     "data": {
      "text/html": [
       "<style scoped>\n",
       "  .ansiout {\n",
       "    display: block;\n",
       "    unicode-bidi: embed;\n",
       "    white-space: pre-wrap;\n",
       "    word-wrap: break-word;\n",
       "    word-break: break-all;\n",
       "    font-family: \"Menlo\", \"Monaco\", \"Consolas\", \"Ubuntu Mono\", \"Source Code Pro\", monospace;\n",
       "    font-size: 13px;\n",
       "    color: #555;\n",
       "    margin-left: 4px;\n",
       "    line-height: 19px;\n",
       "  }\n",
       "</style>"
      ]
     },
     "metadata": {
      "application/vnd.databricks.v1+output": {
       "arguments": {},
       "data": "",
       "errorSummary": "",
       "errorTraceType": null,
       "metadata": {},
       "type": "ipynbError"
      }
     },
     "output_type": "display_data"
    }
   ],
   "source": [
    "print(dataset['stemmed_content'])\n",
    "\n",
    "print(dataset['target'])\n",
    "\n",
    "\n",
    "\n",
    "# separating the data and label\n",
    "X = dataset['stemmed_content'].values\n",
    "Y = dataset['target'].values\n",
    "\n"
   ]
  },
  {
   "cell_type": "code",
   "execution_count": 0,
   "metadata": {
    "application/vnd.databricks.v1+cell": {
     "cellMetadata": {
      "byteLimit": 2048000,
      "rowLimit": 10000
     },
     "inputWidgets": {},
     "nuid": "a2b2e127-3ae0-460b-bbf9-bea99baf9da4",
     "showTitle": false,
     "tableResultSettingsMap": {},
     "title": ""
    }
   },
   "outputs": [
    {
     "output_type": "stream",
     "name": "stdout",
     "output_type": "stream",
     "text": [
      "['love health4uandpet u guy r best'\n 'im meet one besti tonight cant wait girl talk'\n 'darealsunisakim thank twitter add sunisa got meet hin show dc area sweetheart'\n ... 'feel right hate damn humprey'\n 'geezi hv read whole book person type embark type fun sunday warrrrhhh'\n 'threw sign donni bent get thinge made sad face']\n[1 1 1 ... 0 0 0]\n"
     ]
    },
    {
     "output_type": "display_data",
     "data": {
      "text/html": [
       "<style scoped>\n",
       "  .ansiout {\n",
       "    display: block;\n",
       "    unicode-bidi: embed;\n",
       "    white-space: pre-wrap;\n",
       "    word-wrap: break-word;\n",
       "    word-break: break-all;\n",
       "    font-family: \"Menlo\", \"Monaco\", \"Consolas\", \"Ubuntu Mono\", \"Source Code Pro\", monospace;\n",
       "    font-size: 13px;\n",
       "    color: #555;\n",
       "    margin-left: 4px;\n",
       "    line-height: 19px;\n",
       "  }\n",
       "</style>"
      ]
     },
     "metadata": {
      "application/vnd.databricks.v1+output": {
       "arguments": {},
       "data": "",
       "errorSummary": "",
       "errorTraceType": null,
       "metadata": {},
       "type": "ipynbError"
      }
     },
     "output_type": "display_data"
    }
   ],
   "source": [
    "print(X)\n",
    "\n",
    "print(Y)"
   ]
  },
  {
   "cell_type": "code",
   "execution_count": 0,
   "metadata": {
    "application/vnd.databricks.v1+cell": {
     "cellMetadata": {
      "byteLimit": 2048000,
      "rowLimit": 10000
     },
     "inputWidgets": {},
     "nuid": "25981a95-5c00-45d1-8d4c-548d5160dd0c",
     "showTitle": false,
     "tableResultSettingsMap": {},
     "title": ""
    }
   },
   "outputs": [
    {
     "output_type": "stream",
     "name": "stdout",
     "output_type": "stream",
     "text": [
      "(40000,) (32000,) (8000,)\n['beautifullady09 good luck hear twitter addict bewar'\n 'youreba mcentir amp kelli clarkson' 'realiz im talk one' ...\n 'zachsang tell im sorri make sad'\n 'ok ok lotsa plead omshreshti leav comp watch wall e'\n 'httptwitpiccom2yetf ampamp httptwitpiccom2yetx workspac de hoje']\n[1 0 1 ... 1 1 1]\n<class 'numpy.ndarray'>\n  (0, 4063)\t0.5042920371242556\n  (0, 1334)\t0.38641234645318623\n  (0, 35528)\t0.23689773222275357\n  (0, 14092)\t0.3056612006952772\n  (0, 20931)\t0.3206666585082483\n  (0, 13102)\t0.1992939647950793\n  (0, 3749)\t0.551616301768051\n  (1, 6793)\t0.47688725724376074\n  (1, 18859)\t0.41432521908306896\n  (1, 2106)\t0.23811141350829393\n  (1, 21886)\t0.5216397758354765\n  (1, 38548)\t0.5216397758354765\n  (2, 25198)\t0.41095035174002054\n  (2, 33361)\t0.5381675737027135\n  (2, 16616)\t0.31233210141864515\n  (2, 28418)\t0.6662913247544959\n  (3, 11706)\t0.429706489731198\n  (3, 10851)\t0.32255388259852735\n  (3, 26435)\t0.5373841287387539\n  (3, 27094)\t0.2918964202533286\n  (3, 34884)\t0.34105599099305395\n  (3, 8417)\t0.1912227908119375\n  (3, 34552)\t0.28250018930533544\n  (3, 14658)\t0.2408760240691643\n  (3, 13198)\t0.21590077090971876\n  :\t:\n  (31996, 3195)\t0.3829760391812837\n  (31996, 36848)\t0.3236321372556083\n  (31996, 28424)\t0.25415221290125367\n  (31996, 23244)\t0.35204470250507713\n  (31996, 7103)\t0.26524753838352094\n  (31997, 38662)\t0.684246573438402\n  (31997, 33678)\t0.3941162419073992\n  (31997, 29626)\t0.33517807706232966\n  (31997, 31861)\t0.34462646194411456\n  (31997, 21284)\t0.3106085797597843\n  (31997, 16616)\t0.22110988934664252\n  (31998, 25189)\t0.4195927521059163\n  (31998, 26661)\t0.4195927521059163\n  (31998, 20744)\t0.39236154287610703\n  (31998, 7153)\t0.33327186114883744\n  (31998, 36813)\t0.3094590096338563\n  (31998, 19901)\t0.2333529627869447\n  (31998, 25072)\t0.44548655572133505\n  (31998, 36921)\t0.18490369327075787\n  (31999, 14593)\t0.4359321233375713\n  (31999, 15787)\t0.4359321233375713\n  (31999, 15786)\t0.4359321233375713\n  (31999, 2109)\t0.37024101510622043\n  (31999, 37789)\t0.41938258632530684\n  (31999, 8531)\t0.3419493947171155\n"
     ]
    },
    {
     "output_type": "display_data",
     "data": {
      "text/html": [
       "<style scoped>\n",
       "  .ansiout {\n",
       "    display: block;\n",
       "    unicode-bidi: embed;\n",
       "    white-space: pre-wrap;\n",
       "    word-wrap: break-word;\n",
       "    word-break: break-all;\n",
       "    font-family: \"Menlo\", \"Monaco\", \"Consolas\", \"Ubuntu Mono\", \"Source Code Pro\", monospace;\n",
       "    font-size: 13px;\n",
       "    color: #555;\n",
       "    margin-left: 4px;\n",
       "    line-height: 19px;\n",
       "  }\n",
       "</style>"
      ]
     },
     "metadata": {
      "application/vnd.databricks.v1+output": {
       "arguments": {},
       "data": "",
       "errorSummary": "",
       "errorTraceType": null,
       "metadata": {},
       "type": "ipynbError"
      }
     },
     "output_type": "display_data"
    }
   ],
   "source": [
    "X_train, X_test, Y_train, Y_test = train_test_split(X, Y, test_size=0.2, stratify=Y, random_state=2)\n",
    "\n",
    "print(X.shape, X_train.shape, X_test.shape)\n",
    "\n",
    "print(X_train)\n",
    "\n",
    "\n",
    "print(Y_test)\n",
    "\n",
    "\n",
    "print(type(X_train))\n",
    "\n",
    "\n",
    "\n",
    "# converting the textual data to numerical data\n",
    "vectorizer = TfidfVectorizer()\n",
    "\n",
    "X_train = vectorizer.fit_transform(X_train)\n",
    "X_test = vectorizer.transform(X_test)\n",
    "     \n",
    "\n",
    "print(X_train)"
   ]
  },
  {
   "cell_type": "code",
   "execution_count": 0,
   "metadata": {
    "application/vnd.databricks.v1+cell": {
     "cellMetadata": {
      "byteLimit": 2048000,
      "rowLimit": 10000
     },
     "inputWidgets": {},
     "nuid": "50416796-4770-4dac-9b3e-02d898fd3a08",
     "showTitle": false,
     "tableResultSettingsMap": {},
     "title": ""
    }
   },
   "outputs": [
    {
     "output_type": "stream",
     "name": "stdout",
     "output_type": "stream",
     "text": [
      "Out[19]: LogisticRegression(max_iter=1000)"
     ]
    },
    {
     "output_type": "display_data",
     "data": {
      "text/html": [
       "<style scoped>\n",
       "  .ansiout {\n",
       "    display: block;\n",
       "    unicode-bidi: embed;\n",
       "    white-space: pre-wrap;\n",
       "    word-wrap: break-word;\n",
       "    word-break: break-all;\n",
       "    font-family: \"Menlo\", \"Monaco\", \"Consolas\", \"Ubuntu Mono\", \"Source Code Pro\", monospace;\n",
       "    font-size: 13px;\n",
       "    color: #555;\n",
       "    margin-left: 4px;\n",
       "    line-height: 19px;\n",
       "  }\n",
       "</style>"
      ]
     },
     "metadata": {
      "application/vnd.databricks.v1+output": {
       "arguments": {},
       "data": "",
       "errorSummary": "",
       "errorTraceType": null,
       "metadata": {},
       "type": "ipynbError"
      }
     },
     "output_type": "display_data"
    }
   ],
   "source": [
    "#----------------------------------------------- USING LOGISTIC REGRESSION\n",
    "model = LogisticRegression(max_iter=1000)\n",
    "\n",
    "model.fit(X_train, Y_train)"
   ]
  },
  {
   "cell_type": "code",
   "execution_count": 0,
   "metadata": {
    "application/vnd.databricks.v1+cell": {
     "cellMetadata": {
      "byteLimit": 2048000,
      "rowLimit": 10000
     },
     "inputWidgets": {},
     "nuid": "396db46d-936e-4586-a41f-96f38b667ca8",
     "showTitle": false,
     "tableResultSettingsMap": {},
     "title": ""
    }
   },
   "outputs": [
    {
     "output_type": "stream",
     "name": "stdout",
     "output_type": "stream",
     "text": [
      "Accuracy score on the training data : 0.844375\nAccuracy score on the testing data : 0.75475\n"
     ]
    },
    {
     "output_type": "display_data",
     "data": {
      "text/html": [
       "<style scoped>\n",
       "  .ansiout {\n",
       "    display: block;\n",
       "    unicode-bidi: embed;\n",
       "    white-space: pre-wrap;\n",
       "    word-wrap: break-word;\n",
       "    word-break: break-all;\n",
       "    font-family: \"Menlo\", \"Monaco\", \"Consolas\", \"Ubuntu Mono\", \"Source Code Pro\", monospace;\n",
       "    font-size: 13px;\n",
       "    color: #555;\n",
       "    margin-left: 4px;\n",
       "    line-height: 19px;\n",
       "  }\n",
       "</style>"
      ]
     },
     "metadata": {
      "application/vnd.databricks.v1+output": {
       "arguments": {},
       "data": "",
       "errorSummary": "",
       "errorTraceType": null,
       "metadata": {},
       "type": "ipynbError"
      }
     },
     "output_type": "display_data"
    }
   ],
   "source": [
    "\n",
    "# accuracy score on the training data\n",
    "X_train_prediction = model.predict(X_train)\n",
    "training_data_accuracy = accuracy_score(Y_train, X_train_prediction)\n",
    "\n",
    "\n",
    "print('Accuracy score on the training data :', training_data_accuracy)\n",
    "     \n",
    "# accuracy score on the testing data\n",
    "X_test_prediction = model.predict(X_test)\n",
    "test_data_accuracy = accuracy_score(Y_test, X_test_prediction)\n",
    "          \n",
    "\n",
    "\n",
    "print('Accuracy score on the testing data :', test_data_accuracy)          \n",
    "\n",
    "\n",
    "#SO WE HAVE Model accuracy = 78.2%"
   ]
  },
  {
   "cell_type": "code",
   "execution_count": 0,
   "metadata": {
    "application/vnd.databricks.v1+cell": {
     "cellMetadata": {
      "byteLimit": 2048000,
      "rowLimit": 10000
     },
     "inputWidgets": {},
     "nuid": "7869c4d0-e871-43ef-a2cf-d94ec276c7c9",
     "showTitle": false,
     "tableResultSettingsMap": {},
     "title": ""
    }
   },
   "outputs": [
    {
     "output_type": "stream",
     "name": "stdout",
     "output_type": "stream",
     "text": [
      "0\n[0]\nNegative Tweet\n"
     ]
    },
    {
     "output_type": "display_data",
     "data": {
      "text/html": [
       "<style scoped>\n",
       "  .ansiout {\n",
       "    display: block;\n",
       "    unicode-bidi: embed;\n",
       "    white-space: pre-wrap;\n",
       "    word-wrap: break-word;\n",
       "    word-break: break-all;\n",
       "    font-family: \"Menlo\", \"Monaco\", \"Consolas\", \"Ubuntu Mono\", \"Source Code Pro\", monospace;\n",
       "    font-size: 13px;\n",
       "    color: #555;\n",
       "    margin-left: 4px;\n",
       "    line-height: 19px;\n",
       "  }\n",
       "</style>"
      ]
     },
     "metadata": {
      "application/vnd.databricks.v1+output": {
       "arguments": {},
       "data": "",
       "errorSummary": "",
       "errorTraceType": null,
       "metadata": {},
       "type": "ipynbError"
      }
     },
     "output_type": "display_data"
    }
   ],
   "source": [
    "X_new = X_test[200]\n",
    "print(Y_test[200])\n",
    "\n",
    "prediction = model.predict(X_new)\n",
    "print(prediction)\n",
    "\n",
    "if (prediction[0] == 0):\n",
    "  print('Negative Tweet')\n",
    "\n",
    "else:\n",
    "  print('Positive Tweet')"
   ]
  },
  {
   "cell_type": "code",
   "execution_count": 0,
   "metadata": {
    "application/vnd.databricks.v1+cell": {
     "cellMetadata": {
      "byteLimit": 2048000,
      "rowLimit": 10000
     },
     "inputWidgets": {},
     "nuid": "f97cdcc9-3085-48e8-81fe-624529219eb7",
     "showTitle": false,
     "tableResultSettingsMap": {},
     "title": ""
    }
   },
   "outputs": [
    {
     "output_type": "stream",
     "name": "stdout",
     "output_type": "stream",
     "text": [
      "0\n[1]\nPositive Tweet\n"
     ]
    },
    {
     "output_type": "display_data",
     "data": {
      "text/html": [
       "<style scoped>\n",
       "  .ansiout {\n",
       "    display: block;\n",
       "    unicode-bidi: embed;\n",
       "    white-space: pre-wrap;\n",
       "    word-wrap: break-word;\n",
       "    word-break: break-all;\n",
       "    font-family: \"Menlo\", \"Monaco\", \"Consolas\", \"Ubuntu Mono\", \"Source Code Pro\", monospace;\n",
       "    font-size: 13px;\n",
       "    color: #555;\n",
       "    margin-left: 4px;\n",
       "    line-height: 19px;\n",
       "  }\n",
       "</style>"
      ]
     },
     "metadata": {
      "application/vnd.databricks.v1+output": {
       "arguments": {},
       "data": "",
       "errorSummary": "",
       "errorTraceType": null,
       "metadata": {},
       "type": "ipynbError"
      }
     },
     "output_type": "display_data"
    }
   ],
   "source": [
    "\n",
    "X_new = X_test[4]\n",
    "print(Y_test[3])\n",
    "\n",
    "prediction = model.predict(X_new)\n",
    "print(prediction)\n",
    "\n",
    "if (prediction[0] == 0):\n",
    "  print('Negative Tweet')\n",
    "\n",
    "else:\n",
    "  print('Positive Tweet')\n",
    "     \n",
    "\n",
    "\n",
    "     #---------------------------------------------------------------------------------------------------------------------#\n",
    "     #this means we can classify the tweets accordingly now and its pretty useful for directly checking the tweet sentiments"
   ]
  },
  {
   "cell_type": "code",
   "execution_count": 0,
   "metadata": {
    "application/vnd.databricks.v1+cell": {
     "cellMetadata": {
      "byteLimit": 2048000,
      "rowLimit": 10000
     },
     "inputWidgets": {},
     "nuid": "ad52474e-e0b6-4cfc-9923-b82562ace17c",
     "showTitle": false,
     "tableResultSettingsMap": {},
     "title": ""
    }
   },
   "outputs": [
    {
     "output_type": "display_data",
     "data": {
      "image/png": "[encoded data removed]"
     },
     "metadata": {
      "application/vnd.databricks.v1+output": {
       "addedWidgets": {},
       "arguments": {},
       "data": "data:image/png;base64,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\n",
       "datasetInfos": [],
       "metadata": {},
       "removedWidgets": [],
       "type": "image"
      }
     },
     "output_type": "display_data"
    },
    {
     "output_type": "display_data",
     "data": {
      "text/html": [
       "<style scoped>\n",
       "  .ansiout {\n",
       "    display: block;\n",
       "    unicode-bidi: embed;\n",
       "    white-space: pre-wrap;\n",
       "    word-wrap: break-word;\n",
       "    word-break: break-all;\n",
       "    font-family: \"Menlo\", \"Monaco\", \"Consolas\", \"Ubuntu Mono\", \"Source Code Pro\", monospace;\n",
       "    font-size: 13px;\n",
       "    color: #555;\n",
       "    margin-left: 4px;\n",
       "    line-height: 19px;\n",
       "  }\n",
       "</style>"
      ]
     },
     "metadata": {
      "application/vnd.databricks.v1+output": {
       "arguments": {},
       "data": "",
       "errorSummary": "",
       "errorTraceType": null,
       "metadata": {},
       "type": "ipynbError"
      }
     },
     "output_type": "display_data"
    }
   ],
   "source": [
    "from sklearn.metrics import confusion_matrix, ConfusionMatrixDisplay\n",
    "# Generate predictions\n",
    "y_pred = model.predict(X_test)\n",
    "\n",
    "# Create the confusion matrix\n",
    "cm = confusion_matrix(Y_test, y_pred)\n",
    "\n",
    "# Display the confusion matrix\n",
    "disp = ConfusionMatrixDisplay(confusion_matrix=cm, display_labels=['Negative', 'Positive'])\n",
    "disp.plot(cmap='Blues')\n",
    "plt.title('Confusion Matrix')\n",
    "plt.show()\n"
   ]
  },
  {
   "cell_type": "code",
   "execution_count": 0,
   "metadata": {
    "application/vnd.databricks.v1+cell": {
     "cellMetadata": {
      "byteLimit": 2048000,
      "rowLimit": 10000
     },
     "inputWidgets": {},
     "nuid": "0afbc7d2-6c01-416f-8c54-004c1c9fd2c6",
     "showTitle": false,
     "tableResultSettingsMap": {},
     "title": ""
    }
   },
   "outputs": [
    {
     "output_type": "stream",
     "name": "stdout",
     "output_type": "stream",
     "text": [
      "Classification Report:\n              precision    recall  f1-score   support\n\n    Negative       0.76      0.74      0.75      4000\n    Positive       0.75      0.77      0.76      4000\n\n    accuracy                           0.75      8000\n   macro avg       0.76      0.75      0.75      8000\nweighted avg       0.76      0.75      0.75      8000\n\n"
     ]
    },
    {
     "output_type": "display_data",
     "data": {
      "text/html": [
       "<style scoped>\n",
       "  .ansiout {\n",
       "    display: block;\n",
       "    unicode-bidi: embed;\n",
       "    white-space: pre-wrap;\n",
       "    word-wrap: break-word;\n",
       "    word-break: break-all;\n",
       "    font-family: \"Menlo\", \"Monaco\", \"Consolas\", \"Ubuntu Mono\", \"Source Code Pro\", monospace;\n",
       "    font-size: 13px;\n",
       "    color: #555;\n",
       "    margin-left: 4px;\n",
       "    line-height: 19px;\n",
       "  }\n",
       "</style>"
      ]
     },
     "metadata": {
      "application/vnd.databricks.v1+output": {
       "arguments": {},
       "data": "",
       "errorSummary": "",
       "errorTraceType": null,
       "metadata": {},
       "type": "ipynbError"
      }
     },
     "output_type": "display_data"
    }
   ],
   "source": [
    "from sklearn.metrics import classification_report\n",
    "\n",
    "# Generate predictions\n",
    "y_pred = model.predict(X_test)\n",
    "\n",
    "# Print the classification report\n",
    "print(\"Classification Report:\")\n",
    "print(classification_report(Y_test, y_pred, target_names=['Negative', 'Positive']))\n"
   ]
  },
  {
   "cell_type": "code",
   "execution_count": 0,
   "metadata": {
    "application/vnd.databricks.v1+cell": {
     "cellMetadata": {
      "byteLimit": 2048000,
      "rowLimit": 10000
     },
     "inputWidgets": {},
     "nuid": "bb04a883-76c9-4803-9ffb-2293ae976c34",
     "showTitle": false,
     "tableResultSettingsMap": {},
     "title": ""
    }
   },
   "outputs": [
    {
     "output_type": "display_data",
     "data": {
      "image/png": "[encoded data removed]"
     },
     "metadata": {
      "application/vnd.databricks.v1+output": {
       "addedWidgets": {},
       "arguments": {},
       "data": "data:image/png;base64,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\n",
       "datasetInfos": [],
       "metadata": {},
       "removedWidgets": [],
       "type": "image"
      }
     },
     "output_type": "display_data"
    },
    {
     "output_type": "display_data",
     "data": {
      "image/png": "[encoded data removed]"
     },
     "metadata": {
      "application/vnd.databricks.v1+output": {
       "addedWidgets": {},
       "arguments": {},
       "data": "data:image/png;base64,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\n",
       "datasetInfos": [],
       "metadata": {},
       "removedWidgets": [],
       "type": "image"
      }
     },
     "output_type": "display_data"
    },
    {
     "output_type": "display_data",
     "data": {
      "text/html": [
       "<style scoped>\n",
       "  .ansiout {\n",
       "    display: block;\n",
       "    unicode-bidi: embed;\n",
       "    white-space: pre-wrap;\n",
       "    word-wrap: break-word;\n",
       "    word-break: break-all;\n",
       "    font-family: \"Menlo\", \"Monaco\", \"Consolas\", \"Ubuntu Mono\", \"Source Code Pro\", monospace;\n",
       "    font-size: 13px;\n",
       "    color: #555;\n",
       "    margin-left: 4px;\n",
       "    line-height: 19px;\n",
       "  }\n",
       "</style>"
      ]
     },
     "metadata": {
      "application/vnd.databricks.v1+output": {
       "arguments": {},
       "data": "",
       "errorSummary": "",
       "errorTraceType": null,
       "metadata": {},
       "type": "ipynbError"
      }
     },
     "output_type": "display_data"
    }
   ],
   "source": [
    "from sklearn.metrics import roc_curve, roc_auc_score\n",
    "\n",
    "# Calculate probabilities\n",
    "y_probs = model.predict_proba(X_test)[:, 1]  # Probabilities for positive class\n",
    "\n",
    "# Compute ROC curve\n",
    "fpr, tpr, thresholds = roc_curve(Y_test, y_probs)\n",
    "\n",
    "# Plot ROC Curve\n",
    "plt.figure(figsize=(10, 7))\n",
    "plt.plot(fpr, tpr, color='blue', label=f'AUC = {roc_auc_score(Y_test, y_probs):.2f}')\n",
    "plt.plot([0, 1], [0, 1], color='gray', linestyle='--')  # Random chance line\n",
    "plt.xlabel('False Positive Rate (FPR)')\n",
    "plt.ylabel('True Positive Rate (TPR)')\n",
    "plt.title('ROC Curve')\n",
    "plt.legend()\n",
    "plt.show()\n",
    "\n",
    "\n",
    "#...........................................\n",
    "from sklearn.model_selection import learning_curve\n",
    "\n",
    "# Generate learning curve data\n",
    "train_sizes, train_scores, test_scores = learning_curve(model, X_train, Y_train, cv=5, scoring='accuracy')\n",
    "\n",
    "# Calculate mean and std\n",
    "train_mean = train_scores.mean(axis=1)\n",
    "test_mean = test_scores.mean(axis=1)\n",
    "\n",
    "# Plot learning curve\n",
    "plt.figure(figsize=(10, 6))\n",
    "plt.plot(train_sizes, train_mean, label='Training Accuracy', color='blue')\n",
    "plt.plot(train_sizes, test_mean, label='Validation Accuracy', color='orange')\n",
    "plt.xlabel('Training Size')\n",
    "plt.ylabel('Accuracy')\n",
    "plt.title('Learning Curve')\n",
    "plt.legend()\n",
    "plt.grid()\n",
    "plt.show()\n",
    "\n"
   ]
  },
  {
   "cell_type": "code",
   "execution_count": 0,
   "metadata": {
    "application/vnd.databricks.v1+cell": {
     "cellMetadata": {
      "byteLimit": 2048000,
      "rowLimit": 10000
     },
     "inputWidgets": {},
     "nuid": "ce7aad38-24c1-4fcd-a039-4b8bc0cdf74a",
     "showTitle": false,
     "tableResultSettingsMap": {},
     "title": ""
    }
   },
   "outputs": [
    {
     "output_type": "stream",
     "name": "stdout",
     "output_type": "stream",
     "text": [
      "Best Parameters: {'C': 1, 'solver': 'lbfgs'}\nBest Cross-Validation Accuracy: 0.7495624999999999\nTest Accuracy after Hyperparameter Tuning: 0.75475\n"
     ]
    },
    {
     "output_type": "display_data",
     "data": {
      "text/html": [
       "<style scoped>\n",
       "  .ansiout {\n",
       "    display: block;\n",
       "    unicode-bidi: embed;\n",
       "    white-space: pre-wrap;\n",
       "    word-wrap: break-word;\n",
       "    word-break: break-all;\n",
       "    font-family: \"Menlo\", \"Monaco\", \"Consolas\", \"Ubuntu Mono\", \"Source Code Pro\", monospace;\n",
       "    font-size: 13px;\n",
       "    color: #555;\n",
       "    margin-left: 4px;\n",
       "    line-height: 19px;\n",
       "  }\n",
       "</style>"
      ]
     },
     "metadata": {
      "application/vnd.databricks.v1+output": {
       "arguments": {},
       "data": "",
       "errorSummary": "",
       "errorTraceType": null,
       "metadata": {},
       "type": "ipynbError"
      }
     },
     "output_type": "display_data"
    }
   ],
   "source": [
    "from sklearn.model_selection import GridSearchCV\n",
    "\n",
    "# Define parameter grid for Logistic Regression\n",
    "param_grid = {\n",
    "    'C': [0.01, 0.1, 1, 10],    # Inverse of regularization strength\n",
    "    'solver': ['liblinear', 'lbfgs']\n",
    "}\n",
    "\n",
    "# Perform Grid Search\n",
    "grid_search = GridSearchCV(estimator=model, param_grid=param_grid, cv=5, scoring='accuracy')\n",
    "grid_search.fit(X_train, Y_train)\n",
    "\n",
    "# Best parameters and accuracy\n",
    "print(\"Best Parameters:\", grid_search.best_params_)\n",
    "print(\"Best Cross-Validation Accuracy:\", grid_search.best_score_)\n",
    "\n",
    "# Evaluate best model on test data\n",
    "best_model = grid_search.best_estimator_\n",
    "test_accuracy = best_model.score(X_test, Y_test)\n",
    "print(\"Test Accuracy after Hyperparameter Tuning:\", test_accuracy)"
   ]
  },
  {
   "cell_type": "code",
   "execution_count": 0,
   "metadata": {
    "application/vnd.databricks.v1+cell": {
     "cellMetadata": {
      "byteLimit": 2048000,
      "rowLimit": 10000
     },
     "inputWidgets": {},
     "nuid": "1c6a56e0-b2d6-4ad4-a425-35f2dcd9bb2c",
     "showTitle": false,
     "tableResultSettingsMap": {},
     "title": ""
    }
   },
   "outputs": [
    {
     "output_type": "stream",
     "name": "stdout",
     "output_type": "stream",
     "text": [
      "Out[27]: Index(['text', 'target', 'stemmed_content'], dtype='object')"
     ]
    },
    {
     "output_type": "display_data",
     "data": {
      "text/html": [
       "<style scoped>\n",
       "  .ansiout {\n",
       "    display: block;\n",
       "    unicode-bidi: embed;\n",
       "    white-space: pre-wrap;\n",
       "    word-wrap: break-word;\n",
       "    word-break: break-all;\n",
       "    font-family: \"Menlo\", \"Monaco\", \"Consolas\", \"Ubuntu Mono\", \"Source Code Pro\", monospace;\n",
       "    font-size: 13px;\n",
       "    color: #555;\n",
       "    margin-left: 4px;\n",
       "    line-height: 19px;\n",
       "  }\n",
       "</style>"
      ]
     },
     "metadata": {
      "application/vnd.databricks.v1+output": {
       "arguments": {},
       "data": "",
       "errorSummary": "",
       "errorTraceType": null,
       "metadata": {},
       "type": "ipynbError"
      }
     },
     "output_type": "display_data"
    }
   ],
   "source": [
    "dataset.columns"
   ]
  },
  {
   "cell_type": "code",
   "execution_count": 0,
   "metadata": {
    "application/vnd.databricks.v1+cell": {
     "cellMetadata": {
      "byteLimit": 2048000,
      "rowLimit": 10000
     },
     "inputWidgets": {},
     "nuid": "e0f1e2b0-2983-4240-96ed-50c2369516a4",
     "showTitle": false,
     "tableResultSettingsMap": {},
     "title": ""
    }
   },
   "outputs": [
    {
     "output_type": "stream",
     "name": "stdout",
     "output_type": "stream",
     "text": [
      "Out[28]: '/root/.cache/kagglehub/datasets/kazanova/sentiment140/versions/2/training.1600000.processed.noemoticon.csv'"
     ]
    },
    {
     "output_type": "display_data",
     "data": {
      "text/html": [
       "<style scoped>\n",
       "  .ansiout {\n",
       "    display: block;\n",
       "    unicode-bidi: embed;\n",
       "    white-space: pre-wrap;\n",
       "    word-wrap: break-word;\n",
       "    word-break: break-all;\n",
       "    font-family: \"Menlo\", \"Monaco\", \"Consolas\", \"Ubuntu Mono\", \"Source Code Pro\", monospace;\n",
       "    font-size: 13px;\n",
       "    color: #555;\n",
       "    margin-left: 4px;\n",
       "    line-height: 19px;\n",
       "  }\n",
       "</style>"
      ]
     },
     "metadata": {
      "application/vnd.databricks.v1+output": {
       "arguments": {},
       "data": "",
       "errorSummary": "",
       "errorTraceType": null,
       "metadata": {},
       "type": "ipynbError"
      }
     },
     "output_type": "display_data"
    }
   ],
   "source": [
    "file_path"
   ]
  },
  {
   "cell_type": "code",
   "execution_count": 0,
   "metadata": {
    "application/vnd.databricks.v1+cell": {
     "cellMetadata": {
      "byteLimit": 2048000,
      "rowLimit": 10000
     },
     "inputWidgets": {},
     "nuid": "fde39028-3996-4669-9e69-f5a665743dc0",
     "showTitle": false,
     "tableResultSettingsMap": {},
     "title": ""
    }
   },
   "outputs": [
    {
     "output_type": "stream",
     "name": "stdout",
     "output_type": "stream",
     "text": [
      "Out[29]: ['ID', 'TweetID', 'Date', 'Query', 'Users', 'Text', 'Sentiment']"
     ]
    },
    {
     "output_type": "display_data",
     "data": {
      "text/html": [
       "<style scoped>\n",
       "  .ansiout {\n",
       "    display: block;\n",
       "    unicode-bidi: embed;\n",
       "    white-space: pre-wrap;\n",
       "    word-wrap: break-word;\n",
       "    word-break: break-all;\n",
       "    font-family: \"Menlo\", \"Monaco\", \"Consolas\", \"Ubuntu Mono\", \"Source Code Pro\", monospace;\n",
       "    font-size: 13px;\n",
       "    color: #555;\n",
       "    margin-left: 4px;\n",
       "    line-height: 19px;\n",
       "  }\n",
       "</style>"
      ]
     },
     "metadata": {
      "application/vnd.databricks.v1+output": {
       "arguments": {},
       "data": "",
       "errorSummary": "",
       "errorTraceType": null,
       "metadata": {},
       "type": "ipynbError"
      }
     },
     "output_type": "display_data"
    }
   ],
   "source": [
    "tweetDf = tweetDf.withColumnRenamed(\"userAlias\", \"Users\")\n",
    "\n",
    "# Now proceed with community detection, using 'userAlias'\n",
    "edges = tweetDf.select(\"TweetID\", \"Users\")\n",
    "\n",
    "tweetDf.columns\n"
   ]
  },
  {
   "cell_type": "code",
   "execution_count": 0,
   "metadata": {
    "application/vnd.databricks.v1+cell": {
     "cellMetadata": {
      "byteLimit": 2048000,
      "rowLimit": 10000
     },
     "inputWidgets": {},
     "nuid": "3038e91e-86a7-49cb-b393-7f87d7e1817b",
     "showTitle": false,
     "tableResultSettingsMap": {},
     "title": ""
    }
   },
   "outputs": [
    {
     "output_type": "stream",
     "name": "stdout",
     "output_type": "stream",
     "text": [
      "Number of communities detected: 67941\n3639     33\n480      21\n97       20\n2127     19\n2981     18\n         ..\n25471     2\n37922     2\n37923     2\n37924     2\n14908     2\nName: Community, Length: 67941, dtype: int64\nGraph too large to plot effectively.\n"
     ]
    },
    {
     "output_type": "display_data",
     "data": {
      "text/html": [
       "<style scoped>\n",
       "  .ansiout {\n",
       "    display: block;\n",
       "    unicode-bidi: embed;\n",
       "    white-space: pre-wrap;\n",
       "    word-wrap: break-word;\n",
       "    word-break: break-all;\n",
       "    font-family: \"Menlo\", \"Monaco\", \"Consolas\", \"Ubuntu Mono\", \"Source Code Pro\", monospace;\n",
       "    font-size: 13px;\n",
       "    color: #555;\n",
       "    margin-left: 4px;\n",
       "    line-height: 19px;\n",
       "  }\n",
       "</style>"
      ]
     },
     "metadata": {
      "application/vnd.databricks.v1+output": {
       "arguments": {},
       "data": "",
       "errorSummary": "",
       "errorTraceType": null,
       "metadata": {},
       "type": "ipynbError"
      }
     },
     "output_type": "display_data"
    }
   ],
   "source": [
    "import networkx as nx\n",
    "import pandas as pd\n",
    "import community as community_louvain\n",
    "import matplotlib.pyplot as plt\n",
    "\n",
    "# Convert Spark DataFrame to Pandas\n",
    "pandas_df = tweetDf.toPandas()\n",
    "\n",
    "# Subsampling the data to 5% for faster computation\n",
    "sampled_df = pandas_df.sample(frac=0.05, random_state=42)\n",
    "\n",
    "# Create a graph\n",
    "G = nx.Graph()\n",
    "\n",
    "# Adding nodes (users only)\n",
    "users = sampled_df['Users'].unique()\n",
    "G.add_nodes_from(users)\n",
    "\n",
    "# Adding edges (only user-user or user-tweet connections, if necessary)\n",
    "for _, row in sampled_df.iterrows():\n",
    "    G.add_edge(row['Users'], row['TweetID'])\n",
    "\n",
    "# Detect communities using Louvain\n",
    "partition = community_louvain.best_partition(G)\n",
    "\n",
    "# Display the detected communities\n",
    "print(\"Number of communities detected:\", len(set(partition.values())))\n",
    "community_summary = pd.DataFrame.from_dict(partition, orient='index', columns=['Community'])\n",
    "print(community_summary['Community'].value_counts())\n",
    "\n",
    "# Plot (Optional: Only for small graphs)\n",
    "if len(G) < 1000:  # Avoid plotting large graphs\n",
    "    pos = nx.spring_layout(G, k=0.15, iterations=10)\n",
    "    plt.figure(figsize=(10, 7))\n",
    "    nx.draw_networkx_nodes(G, pos, node_size=40, cmap=plt.cm.jet, node_color=list(partition.values()))\n",
    "    nx.draw_networkx_edges(G, pos, alpha=0.5)\n",
    "    plt.title(\"Community Detection using Louvain\")\n",
    "    plt.show()\n",
    "else:\n",
    "    print(\"Graph too large to plot effectively.\")\n",
    "\n",
    "\n",
    "\n",
    "    #Yes, the community detection is complete! However, the output indicates an excessively fragmented graph with 67,941 communities, which is likely caused by:\n",
    "\n",
    "#Sparse Connectivity: Many users might be connected to only a few edges (e.g., tweet IDs), causing isolated or near-isolated clusters.\n",
    "#Disconnected Components: The graph may have many small connected components instead of forming meaningful communities.\n",
    "#Here’s what you can do to refine and make sense of this result\n"
   ]
  },
  {
   "cell_type": "code",
   "execution_count": 0,
   "metadata": {
    "application/vnd.databricks.v1+cell": {
     "cellMetadata": {
      "byteLimit": 2048000,
      "rowLimit": 10000
     },
     "inputWidgets": {},
     "nuid": "531db5c3-fa33-401b-8a12-695be0f0ad1c",
     "showTitle": false,
     "tableResultSettingsMap": {},
     "title": ""
    }
   },
   "outputs": [
    {
     "output_type": "display_data",
     "data": {
      "text/html": [
       "<style scoped>\n",
       "  .ansiout {\n",
       "    display: block;\n",
       "    unicode-bidi: embed;\n",
       "    white-space: pre-wrap;\n",
       "    word-wrap: break-word;\n",
       "    word-break: break-all;\n",
       "    font-family: \"Menlo\", \"Monaco\", \"Consolas\", \"Ubuntu Mono\", \"Source Code Pro\", monospace;\n",
       "    font-size: 13px;\n",
       "    color: #555;\n",
       "    margin-left: 4px;\n",
       "    line-height: 19px;\n",
       "  }\n",
       "</style>"
      ]
     },
     "metadata": {
      "application/vnd.databricks.v1+output": {
       "arguments": {},
       "data": "",
       "errorSummary": "",
       "errorTraceType": null,
       "metadata": {},
       "type": "ipynbError"
      }
     },
     "output_type": "display_data"
    }
   ],
   "source": [
    "#- HASHTAGS DETECTION #-\n",
    "from pyspark.sql.functions import regexp_extract, split, explode\n",
    "\n",
    "# Extract hashtags using regex\n",
    "tweetDf = tweetDf.withColumn('Hashtags', regexp_extract(tweetDf['Text'], r'(#\\w+)', 0))\n",
    "\n",
    "# Split hashtags into an array and explode into separate rows\n",
    "tweetDf = tweetDf.withColumn('Hashtags', split(tweetDf['Text'], ' '))\n",
    "hashtagDf = tweetDf.select('TweetID', explode(tweetDf['Hashtags']).alias('Hashtag'))\n"
   ]
  },
  {
   "cell_type": "code",
   "execution_count": 0,
   "metadata": {
    "application/vnd.databricks.v1+cell": {
     "cellMetadata": {
      "byteLimit": 2048000,
      "rowLimit": 10000
     },
     "inputWidgets": {},
     "nuid": "34513c43-efda-4cfb-881e-6af8e1737a1f",
     "showTitle": false,
     "tableResultSettingsMap": {},
     "title": ""
    }
   },
   "outputs": [
    {
     "output_type": "display_data",
     "data": {
      "text/html": [
       "<style scoped>\n",
       "  .ansiout {\n",
       "    display: block;\n",
       "    unicode-bidi: embed;\n",
       "    white-space: pre-wrap;\n",
       "    word-wrap: break-word;\n",
       "    word-break: break-all;\n",
       "    font-family: \"Menlo\", \"Monaco\", \"Consolas\", \"Ubuntu Mono\", \"Source Code Pro\", monospace;\n",
       "    font-size: 13px;\n",
       "    color: #555;\n",
       "    margin-left: 4px;\n",
       "    line-height: 19px;\n",
       "  }\n",
       "</style>"
      ]
     },
     "metadata": {
      "application/vnd.databricks.v1+output": {
       "arguments": {},
       "data": "",
       "errorSummary": "",
       "errorTraceType": null,
       "metadata": {},
       "type": "ipynbError"
      }
     },
     "output_type": "display_data"
    }
   ],
   "source": [
    "# Filter out empty hashtags and those that do not start with '#'\n",
    "hashtagDf = hashtagDf.filter(hashtagDf.Hashtag != '')\n",
    "hashtagDf = hashtagDf.filter(hashtagDf.Hashtag.startswith('#'))"
   ]
  },
  {
   "cell_type": "code",
   "execution_count": 0,
   "metadata": {
    "application/vnd.databricks.v1+cell": {
     "cellMetadata": {
      "byteLimit": 2048000,
      "rowLimit": 10000
     },
     "inputWidgets": {},
     "nuid": "71ecfde0-33a3-4972-bf3e-b811f3e80cf6",
     "showTitle": false,
     "tableResultSettingsMap": {},
     "title": ""
    }
   },
   "outputs": [
    {
     "output_type": "stream",
     "name": "stdout",
     "output_type": "stream",
     "text": [
      "+-------------+-----+\n|      Hashtag|count|\n+-------------+-----+\n|#followfriday| 1827|\n|          #fb| 1728|\n| #squarespace|  818|\n|     #seb-day|  498|\n|          #FF|  497|\n|            #|  472|\n|#FollowFriday|  407|\n|           #1|  391|\n| #musicmonday|  382|\n|#iranelection|  337|\n+-------------+-----+\nonly showing top 10 rows\n\n"
     ]
    },
    {
     "output_type": "display_data",
     "data": {
      "text/html": [
       "<style scoped>\n",
       "  .ansiout {\n",
       "    display: block;\n",
       "    unicode-bidi: embed;\n",
       "    white-space: pre-wrap;\n",
       "    word-wrap: break-word;\n",
       "    word-break: break-all;\n",
       "    font-family: \"Menlo\", \"Monaco\", \"Consolas\", \"Ubuntu Mono\", \"Source Code Pro\", monospace;\n",
       "    font-size: 13px;\n",
       "    color: #555;\n",
       "    margin-left: 4px;\n",
       "    line-height: 19px;\n",
       "  }\n",
       "</style>"
      ]
     },
     "metadata": {
      "application/vnd.databricks.v1+output": {
       "arguments": {},
       "data": "",
       "errorSummary": "",
       "errorTraceType": null,
       "metadata": {},
       "type": "ipynbError"
      }
     },
     "output_type": "display_data"
    }
   ],
   "source": [
    "# Count occurrences of each hashtag\n",
    "hashtag_counts = hashtagDf.groupBy('Hashtag').count().orderBy(desc('count'))\n",
    "\n",
    "# Show the top 10 hashtags\n",
    "hashtag_counts.show(10)"
   ]
  },
  {
   "cell_type": "code",
   "execution_count": 0,
   "metadata": {
    "application/vnd.databricks.v1+cell": {
     "cellMetadata": {
      "byteLimit": 2048000,
      "rowLimit": 10000
     },
     "inputWidgets": {},
     "nuid": "beed1628-7369-47dd-a720-21ccddea42dc",
     "showTitle": false,
     "tableResultSettingsMap": {},
     "title": ""
    }
   },
   "outputs": [
    {
     "output_type": "display_data",
     "data": {
      "image/png": "[encoded data removed]"
     },
     "metadata": {
      "application/vnd.databricks.v1+output": {
       "addedWidgets": {},
       "arguments": {},
       "data": "data:image/png;base64,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\n",
       "datasetInfos": [],
       "metadata": {},
       "removedWidgets": [],
       "type": "image"
      }
     },
     "output_type": "display_data"
    },
    {
     "output_type": "display_data",
     "data": {
      "text/html": [
       "<style scoped>\n",
       "  .ansiout {\n",
       "    display: block;\n",
       "    unicode-bidi: embed;\n",
       "    white-space: pre-wrap;\n",
       "    word-wrap: break-word;\n",
       "    word-break: break-all;\n",
       "    font-family: \"Menlo\", \"Monaco\", \"Consolas\", \"Ubuntu Mono\", \"Source Code Pro\", monospace;\n",
       "    font-size: 13px;\n",
       "    color: #555;\n",
       "    margin-left: 4px;\n",
       "    line-height: 19px;\n",
       "  }\n",
       "</style>"
      ]
     },
     "metadata": {
      "application/vnd.databricks.v1+output": {
       "arguments": {},
       "data": "",
       "errorSummary": "",
       "errorTraceType": null,
       "metadata": {},
       "type": "ipynbError"
      }
     },
     "output_type": "display_data"
    }
   ],
   "source": [
    "import matplotlib.pyplot as plt\n",
    "\n",
    "# Collect the top hashtags for visualization\n",
    "top_hashtags = hashtag_counts.limit(10).toPandas()\n",
    "\n",
    "# Plotting\n",
    "plt.figure(figsize=(10, 6))\n",
    "sns.barplot(x='count', y='Hashtag', data=top_hashtags, palette='viridis')\n",
    "plt.title('Top 10 Hashtags in Tweets')\n",
    "plt.xlabel('Frequency')\n",
    "plt.ylabel('Hashtag')\n",
    "plt.show()"
   ]
  },
  {
   "cell_type": "code",
   "execution_count": 0,
   "metadata": {
    "application/vnd.databricks.v1+cell": {
     "cellMetadata": {
      "byteLimit": 2048000,
      "rowLimit": 10000
     },
     "inputWidgets": {},
     "nuid": "890f56a2-58d1-4c9e-9116-3026c504d8db",
     "showTitle": false,
     "tableResultSettingsMap": {},
     "title": ""
    }
   },
   "outputs": [
    {
     "output_type": "stream",
     "name": "stdout",
     "output_type": "stream",
     "text": [
      "+--------------------+---------+-----+\n|             Hashtag|Sentiment|count|\n+--------------------+---------+-----+\n|                   #|  neutral|  472|\n|                  #!|  neutral|    7|\n|                 #!!|  neutral|    1|\n|                #!!!|  neutral|    1|\n|   #!#$!#$!!#@@#@!!!|  neutral|    1|\n|            #!?@$?!!|  neutral|    1|\n|       #!@$@#%#$%#$%|  neutral|    1|\n|               #!@%#|  neutral|    1|\n|               #####|  neutral|    2|\n|              ######|  neutral|    1|\n|#################...|  neutral|    1|\n|#####ssssqqqquuuu...|  neutral|    1|\n|           ###-MICA.|  neutral|    1|\n|                ###1|  neutral|    1|\n|                ##$@|  neutral|    1|\n|                ##'s|  neutral|    1|\n|           ##@*&amp;|  neutral|    1|\n|   ##CrocsFeelGood01|  neutral|    1|\n|      ##Followfriday|  neutral|    2|\n|   ##awaresg_tshirts|  neutral|    1|\n+--------------------+---------+-----+\nonly showing top 20 rows\n\n"
     ]
    },
    {
     "output_type": "display_data",
     "data": {
      "text/html": [
       "<style scoped>\n",
       "  .ansiout {\n",
       "    display: block;\n",
       "    unicode-bidi: embed;\n",
       "    white-space: pre-wrap;\n",
       "    word-wrap: break-word;\n",
       "    word-break: break-all;\n",
       "    font-family: \"Menlo\", \"Monaco\", \"Consolas\", \"Ubuntu Mono\", \"Source Code Pro\", monospace;\n",
       "    font-size: 13px;\n",
       "    color: #555;\n",
       "    margin-left: 4px;\n",
       "    line-height: 19px;\n",
       "  }\n",
       "</style>"
      ]
     },
     "metadata": {
      "application/vnd.databricks.v1+output": {
       "arguments": {},
       "data": "",
       "errorSummary": "",
       "errorTraceType": null,
       "metadata": {},
       "type": "ipynbError"
      }
     },
     "output_type": "display_data"
    }
   ],
   "source": [
    "# Join with the original DataFrame to get sentiment\n",
    "sentiment_by_hashtag = hashtagDf.join(tweetDf.select('TweetID', 'Sentiment'), on='TweetID')\n",
    "\n",
    "# Count sentiment occurrences by hashtag\n",
    "sentiment_counts = sentiment_by_hashtag.groupBy('Hashtag', 'Sentiment').count().orderBy('Hashtag')\n",
    "\n",
    "# Show the sentiment counts for hashtags\n",
    "sentiment_counts.show()"
   ]
  },
  {
   "cell_type": "code",
   "execution_count": 0,
   "metadata": {
    "application/vnd.databricks.v1+cell": {
     "cellMetadata": {
      "byteLimit": 2048000,
      "rowLimit": 10000
     },
     "inputWidgets": {},
     "nuid": "28122dd1-8f87-4a6e-b87d-894b9bec8d9f",
     "showTitle": false,
     "tableResultSettingsMap": {},
     "title": ""
    }
   },
   "outputs": [
    {
     "output_type": "stream",
     "name": "stdout",
     "output_type": "stream",
     "text": [
      "+----------+--------------------+-----+\n|      Date|             Hashtag|count|\n+----------+--------------------+-----+\n|2009-04-07|              #TTSC?|    1|\n|2009-04-07|             #ottawa|    1|\n|2009-04-07|                #msu|    1|\n|2009-04-07|             #Mesh09|    1|\n|2009-04-07|          #barcodes.|    1|\n|2009-04-07|             #Berlin|    1|\n|2009-04-07|       #twitteriffic|    1|\n|2009-04-07|                 #f1|    1|\n|2009-04-07|             #Heroes|    3|\n|2009-04-07|                #CNN|    1|\n|2009-04-07|                #WCH|    1|\n|2009-04-07|             #search|    1|\n|2009-04-07|          #weshareDI|    1|\n|2009-04-07|  #AutomationAtaCost|    1|\n|2009-04-07|                  #1|    7|\n|2009-04-07|              #...We|    1|\n|2009-04-07|                   #|    3|\n|2009-04-07|             #Virgin|    1|\n|2009-04-07|#&amp;$(#&amp;$!(...|    1|\n|2009-04-07|               #gsoc|    1|\n+----------+--------------------+-----+\nonly showing top 20 rows\n\n"
     ]
    },
    {
     "output_type": "display_data",
     "data": {
      "image/png": "[encoded data removed]"
     },
     "metadata": {
      "application/vnd.databricks.v1+output": {
       "addedWidgets": {},
       "arguments": {},
       "data": "data:image/png;base64,iVBORw0KGgoAAAANSUhEUgAAAt8AAAGWCAYAAACgte/9AAAAOXRFWHRTb2Z0d2FyZQBNYXRwbG90bGliIHZlcnNpb24zLjUuMSwgaHR0cHM6Ly9tYXRwbG90bGliLm9yZy/YYfK9AAAACXBIWXMAAAsTAAALEwEAmpwYAAArqUlEQVR4nO3de5gdVZnv8e8bwkURCJKoQIDEIUAuJAE6SAMBRkVQw+VgwsgAgqgZCPE4eIABcQQyOjqKNxQvTJiJRwEVRiXqGUE0wDAESIeJECBKEJTmmgteQggh+J4/qhI7bYd00t1r093fz/P0w66qtXe9u1a6+dXaq2pHZiJJkiSp5w1odAGSJElSf2H4liRJkgoxfEuSJEmFGL4lSZKkQgzfkiRJUiGGb0mSJKkQw7ckdVFEZETs2eg6SuqL7zkivhYR/9joOiT1bYZvSf1CRDwaEW9tt+70iLi9h/fbY/uIiP+MiBX1z4sRsbrN8td6Yp9dFRFDI+LqiFgWEc9FxN0RManQvl/2eGXmmZn5TyVqkdR/DWx0AZKkzZOZb1/7OCJmAa2Z+dH27SJiYGauKVlbRyLitcDtwBxgNPB74Hjgmog4IzOv7+b9rfe+O3u8JKknOfItSbWIuCAiHo6IP0bEAxHxv9ps2zMibo2I30fE0oj4TrunvzUiHoqI30XEFVEZCXwNaK5HV39Xv9Y7I+J/IuIPEfFYRFzSro73RMRv6tHhf+xo1L4T7yUj4uyIeAh4qF43KSIW1DXeERFj27R/NCLOjYh76/f4nYjYps328yLiyYh4IiLOaLevd9TH648R8XhEnLuBss4BVgDvy8ynMvP5zLwW+ATw2fqYfTUiLmv3+jdExIfrx7tExH9ExJKIeCQi/nebdpdExPUR8a2I+ANw+iYes1kR8fH68RER0RoR50fEM/V7P75+r7+KiOUR8ZE2zx3Q5t/Psoj4bn2yIUnrMXxL0p89DEwEdgAuBb4VETvX2/4JuAnYERgKfKndcycBE4CxwInAUZn5IHAmMDczX5OZg+q2zwHvAQYB7wTOiojjASJiFPAV4GRg57qWXTfz/RwPvAkYFRH7Af8G/B2wE/B1YHZEbN2m/YnA0cDw+n2cXtd0NHAucCQwAmh/InAV8HeZuR0wBvj5Buo5EviPzPxTu/XfBXYH9gKuBf4mIqLe947A24BvR8QA4IfAL6iOyVuAv4+Io9q81nHA9VTH9uoNHpnOeQOwTb2vjwH/CpwCHED17+QfI2J43faDVMf7cGAX4Fngii7uX1IfZPiW1J/8oB71/V09Cv2Vthsz87rMfCIz/5SZ36EaMT6w3vwisAewS2auysz287g/lZm/y8zfUk2rGL+hIjLzlsy8r97PvVSB8/B682Tgh5l5e2aupgp9uZnv95OZuTwznwemAl/PzLsy86XM/AbwAnBQm/aX1+9/OVXIXfseTgT+PTMXZuZzwCXt9vMiVcDfPjOfzcx7NlDPYODJDtY/2Wb7f1G934n1uslUJy9PUJ3cDMnMGZm5OjN/TRWI393mteZm5g/qY/v8hg9Np7wIfCIzXwS+Xdf3xcz8Y2beDzwAjKvbnglclJmtmfkC1TGaHBFO75S0HsO3pP7k+MwctPYHmNZ2Yz3dY0GbcD6GKnABnA8EcHdE3N9+6gXwVJvHK4HXbKiIiHhTRMypp078niq4rd3PLsBja9tm5kpg2aa+0dpjbR7vAfyfdicfu9X729h7WK8m4Dft9vMu4B3Ab+qpOc0bqGcp1Wh+e2vXLc3MpAq6J9Xr/pY/j2DvAezS7j18BHh9m9dqW2dXLcvMl+rHa4P80222P8+fj9EewPfb1PUg8FK72iTJ8C1JABGxB9Uo6nRgpzqcL6QK3NRzlD+QmbtQTd34SnTuVnsdjVpfA8wGdsvMHajmhUe97UmqaS1r63oV1TSRzdF2349RjeIOavPz6nrO9cY8SRXU19p9vZ1kzsvM44DXAT+gmkbSkZuBE+rpI22dWNf3q3r5WqpR4z2ops38R5v38Ei797BdZr5jA++5pMeAt7erbZvMfLxB9Uh6hTJ8S1JlW6rgtgQgIt5LNfJNvTwlItaG4mfrtu3nLnfkaWBoRGzVZt12wPLMXBURB1KN7q51PXBMRBxcP+cS/hzMu+JfgTPrUfeIiG2juvBzu04897vA6RExKiJeDVy8dkNEbBURJ0fEDvX0jD+w4ePyeao57FdFxBsiYpuIOAm4CDivHvUmM/+HapR8JnBjZv6ufv7dwB8j4h8i4lURsUVEjImICZt8NLrf14BP1CcMRMSQiDiuwTVJegUyfEsSkJkPAJ8F5lIF5n2B/27TZAJwV0SsoBq1/lA953hjfg7cDzwVEUvrddOAGRHxR6o53etGiuu5xB+kmnrxJNXdQZ6hmp+92TKzBfgA8GWqk4fFdPJuIJn5n8AX6veymL+8oPJU4NH6DiNnUl0s2tHrLAMOpbqI8QGq6TQfBk6t59i3dQ3VhZ3XtHn+S1QXto4HHuHPAX2HzryPHvZFqn8XN9X9eifVqL0krSfqgQZJ0itQRLwG+B0wIjMfaXA5kqQucuRbkl5hIuKYiHh1RGwLXAbcBzza2KokSd3B8C1JrzzHAU/UPyOAd6cfU0pSn+C0E0mSJKkQR74lSZKkQgzfkiRJUiH96mtvBw8enMOGDWt0GZIkSerD5s+fvzQzh3S0rV+F72HDhtHS0tLoMiRJktSHRcRvNrTNaSeSJElSIYZvSZIkqRDDtyRJklRIv5rzLUmS1Je9+OKLtLa2smrVqkaX0i9ss802DB06lC233LLTzzF8S5Ik9RGtra1st912DBs2jIhodDl9WmaybNkyWltbGT58eKef57QTSZKkPmLVqlXstNNOBu8CIoKddtppkz9lMHxLkiT1IQbvcjbnWBu+JUmS1O0uvPBC5syZww9+8AM++clPNrqc9RxxxBEb/e6XL3/5y+y5555EBEuXLu22fRu+JUmS1O3uuusuDjroIG699VYOO+ywRpezyQ455BBuvvlm9thjj259XcO3JEmSus15553H2LFjmTdvHs3NzcycOZOzzjqLGTNm8PDDD3P00UdzwAEHMHHiRBYtWsSaNWuYMGECt9xyC1CNmF900UUAzJgxgwkTJjBmzBimTp1KZgLVyPU555xDU1MTI0eOZN68eZxwwgmMGDGCj370owA8+uij7LPPPpx88smMHDmSyZMns3Llyr+o96abbqK5uZn999+fKVOmsGLFCgD2228/hg0b1u3Hx/AtSZKkbvOZz3yGq666itNPP5158+YxduxY7r33Xj72sY8xdepUvvSlLzF//nwuu+wypk2bxsCBA5k1axZnnXUWN998Mz/5yU+4+OKLAZg+fTrz5s1j4cKFPP/88/zoRz9at5+tttqKlpYWzjzzTI477jiuuOIKFi5cyKxZs1i2bBkAv/zlL5k2bRoPPvgg22+/PV/5ylfWq3Xp0qV8/OMf5+abb+aee+6hqamJz33ucz16fLzVoCRJUh906Q/v54En/tCtrzlql+25+JjRG213zz33MG7cOBYtWsTIkSMBWLFiBXfccQdTpkxZ1+6FF14AYPTo0Zx66qlMmjSJuXPnstVWWwEwZ84cPv3pT7Ny5UqWL1/O6NGjOeaYYwA49thjAdh3330ZPXo0O++8MwBvfOMbeeyxxxg0aBC77bYbhxxyCACnnHIKl19+Oeeee+66/d9555088MAD69qsXr2a5ubmLh2jjTF8S5IkqVssWLCA008/ndbWVgYPHszKlSvJTMaPH8+tt97KoEGDWLBgQYfPve+++xg0aBDPPPMMUN02cdq0abS0tLDbbrtxySWXrHdbv6233hqAAQMGrHu8dnnNmjXAX96NpP1yZnLkkUdy7bXXdvm9d5bhW5IkqQ/qzAh1dxs/fjwLFizg4IMP5vbbb+eMM87g/PPPZ9SoUQAMHz6c6667jilTppCZ3HvvvYwbN47vfe97LF++nNtuu41JkyZx9913r3vNwYMHs2LFCq6//nomT568SfX89re/Ze7cuTQ3N3PNNddw6KGHrrf9oIMO4uyzz2bx4sXsueeePPfcczz++OPstddeXT8YG+Ccb0mSJHWbJUuWsOOOOzJgwAAWLVq0LngDXH311Vx11VWMGzeO0aNHc8MNN7B06VIuuOACZs6cyV577cX06dP50Ic+xKBBg/jABz7AmDFjOOqoo5gwYcIm17L33ntzxRVXMHLkSJ599lnOOuus9bYPGTKEWbNmcdJJJzF27Fiam5tZtGgRAJdffjlDhw6ltbWVsWPH8v73v79rB6YWa68a7Q+amppyY/d0lCRJ6q0efPDBdXOs+7tHH32USZMmsXDhwh7dT0fHPCLmZ2ZTR+0d+ZYkSZIKMXxLkiSpzxk2bFiPj3pvDsO3JEmSVIjhW5IkSSrE8C1JkiQVYviWJEmSCjF8S5IkqdtdeOGFzJkzhx/84Ad88pOfbHQ56zniiCPY2O2nTz75ZPbee2/GjBnDGWecwYsvvtgt+zZ8S5IkqdvdddddHHTQQdx6660cdthhjS5nk5188sksWrSI++67j+eff56ZM2d2y+saviVJktRtzjvvPMaOHcu8efNobm5m5syZnHXWWcyYMYOHH36Yo48+mgMOOICJEyeyaNEi1qxZw4QJE7jllluAasT8oosuAmDGjBlMmDCBMWPGMHXqVNZ+OeQRRxzBOeecQ1NTEyNHjmTevHmccMIJjBgxgo9+9KNA9SU7++yzDyeffDIjR45k8uTJrFy58i/qvemmm2hubmb//fdnypQprFixAoB3vOMdRAQRwYEHHkhra2v3HKDM7Dc/BxxwQEqSJPVVDzzwQKNLyMzMu+++O6dPn56rV6/Ogw8+eN36N7/5zfmrX/0qMzPvvPPO/Ou//uvMzFy4cGHus88++dOf/jTHjx+fL7zwQmZmLlu2bN1zTznllJw9e3ZmZh5++OF5/vnnZ2bmF77whdx5553ziSeeyFWrVuWuu+6aS5cuzUceeSSBvP322zMz873vfW9+5jOfWff8efPm5ZIlS3LixIm5YsWKzMz81Kc+lZdeeul672X16tW533775W233dbhe+3omAMtuYE8OrB7IrwkSZJeUf7zAnjqvu59zTfsC2//1Eab3XPPPYwbN45Fixat++r1FStWcMcddzBlypR17V544QUARo8ezamnnsqkSZOYO3cuW221FQBz5szh05/+NCtXrmT58uWMHj2aY445BoBjjz0WgH333ZfRo0ez8847A/DGN76Rxx57jEGDBrHbbrtxyCGHAHDKKadw+eWXc+65567b/5133skDDzywrs3q1atpbm5e771MmzaNww47jIkTJ2768eqA4VuSJEndYsGCBZx++um0trYyePBgVq5cSWYyfvx4br31VgYNGsSCBQs6fO59993HoEGDeOaZZwBYtWoV06ZNo6Wlhd12241LLrmEVatWrWu/9dZbAzBgwIB1j9cur1mzBoCIWG8f7ZczkyOPPJJrr722w5ouvfRSlixZwte//vVNOxAvw/AtSZLUF3VihLq7jR8/ngULFnDwwQdz++23c8YZZ3D++eczatQoAIYPH851113HlClTyEzuvfdexo0bx/e+9z2WL1/ObbfdxqRJk7j77rvXvebgwYNZsWIF119/PZMnT96ken77298yd+5cmpubueaaazj00EPX237QQQdx9tlns3jxYvbcc0+ee+45Hn/8cfbaay9mzpzJjTfeyM9+9jMGDOi+yyS94FKSJEndZsmSJey4444MGDCARYsWrQveAFdffTVXXXUV48aNY/To0dxwww0sXbqUCy64gJkzZ7LXXnsxffp0PvShDzFo0CA+8IEPMGbMGI466igmTJiwybXsvffeXHHFFYwcOZJnn32Ws846a73tQ4YMYdasWZx00kmMHTuW5uZmFi1aBMCZZ57J008/TXNzM+PHj2fGjBldOzC1yPqq0f6gqakpN3ZPR0mSpN7qwQcfXDfHur979NFHmTRpEgsXLuzR/XR0zCNifmY2ddTekW9JkiSpEMO3JEmS+pxhw4b1+Kj35jB8S5IkSYUYviVJkvqQ/nQ9X6NtzrE2fEuSJPUR22yzDcuWLTOAF5CZLFu2jG222WaTnud9viVJkvqIoUOH0traypIlSxpdSr+wzTbbMHTo0E16juFbkiSpj9hyyy0ZPnx4o8vQy3DaiSRJklRIQ8N3RBwdEb+MiMURcUEH27eOiO/U2++KiGHttu8eESsi4txiRUuSJEmbqWHhOyK2AK4A3g6MAk6KiFHtmr0PeDYz9wQ+D/xLu+2fA/6zp2uVJEmSukMjR74PBBZn5q8zczXwbeC4dm2OA75RP74eeEtEBEBEHA88AtxfplxJkiSpaxoZvncFHmuz3Fqv67BNZq4Bfg/sFBGvAf4BuHRjO4mIqRHREhEtXvkrSZKkRuqtF1xeAnw+M1dsrGFmXpmZTZnZNGTIkJ6vTJIkSdqARt5q8HFgtzbLQ+t1HbVpjYiBwA7AMuBNwOSI+DQwCPhTRKzKzC/3eNWSJEnSZmpk+J4HjIiI4VQh+93A37ZrMxs4DZgLTAZ+ntVXNk1c2yAiLgFWGLwlSZL0Stew8J2ZayJiOnAjsAXwb5l5f0TMAFoyczZwFfDNiFgMLKcK6JIkSVKvFNVAcv/Q1NSULS0tjS5DkiRJfVhEzM/Mpo629dYLLiVJkqRex/AtSZIkFWL4liRJkgoxfEuSJEmFGL4lSZKkQgzfkiRJUiGGb0mSJKkQw7ckSZJUiOFbkiRJKsTwLUmSJBVi+JYkSZIKMXxLkiRJhRi+JUmSpEIM35IkSVIhhm9JkiSpEMO3JEmSVIjhW5IkSSrE8C1JkiQVYviWJEmSCjF8S5IkSYUYviVJkqRCDN+SJElSIYZvSZIkqRDDtyRJklSI4VuSJEkqxPAtSZIkFWL4liRJkgoxfEuSJEmFGL4lSZKkQgzfkiRJUiGGb0mSJKkQw7ckSZJUiOFbkiRJKsTwLUmSJBVi+JYkSZIKMXxLkiRJhRi+JUmSpEIM35IkSVIhhm9JkiSpEMO3JEmSVIjhW5IkSSrE8C1JkiQVYviWJEmSCjF8S5IkSYUYviVJkqRCDN+SJElSIYZvSZIkqRDDtyRJklSI4VuSJEkqxPAtSZIkFdLQ8B0RR0fELyNicURc0MH2rSPiO/X2uyJiWL3+yIiYHxH31f99c/HiJUmSpE3UsPAdEVsAVwBvB0YBJ0XEqHbN3gc8m5l7Ap8H/qVevxQ4JjP3BU4DvlmmakmSJGnzNXLk+0BgcWb+OjNXA98GjmvX5jjgG/Xj64G3RERk5v9k5hP1+vuBV0XE1kWqliRJkjZTI8P3rsBjbZZb63UdtsnMNcDvgZ3atXkXcE9mvtBDdUqSJEndYmCjC+iKiBhNNRXlbS/TZiowFWD33XcvVJkkSZL0lxo58v04sFub5aH1ug7bRMRAYAdgWb08FPg+8J7MfHhDO8nMKzOzKTObhgwZ0o3lS5IkSZumkeF7HjAiIoZHxFbAu4HZ7drMprqgEmAy8PPMzIgYBPwYuCAz/7tUwZIkSVJXNCx813O4pwM3Ag8C383M+yNiRkQcWze7CtgpIhYDHwbW3o5wOrAn8LGIWFD/vK7wW5AkSZI2SWRmo2sopqmpKVtaWhpdhiRJkvqwiJifmU0dbfMbLiVJkqRCDN+SJElSIYZvSZIkqRDDtyRJklSI4VuSJEkqxPAtSZIkFWL4liRJkgoxfEuSJEmFGL4lSZKkQgzfkiRJUiGGb0mSJKkQw7ckSZJUiOFbkiRJKsTwLUmSJBVi+JYkSZIKMXxLkiRJhRi+JUmSpEIM35IkSVIhhm9JkiSpEMO3JEmSVIjhW5IkSSrE8C1JkiQVYviWJEmSCjF8S5IkSYUYviVJkqRCDN+SJElSIYZvSZIkqRDDtyRJklSI4VuSJEkqxPAtSZIkFWL4liRJkgoxfEuSJEmFGL4lSZKkQgzfkiRJUiGGb0mSJKkQw7ckSZJUiOFbkiRJKsTwLUmSJBVi+JYkSZIKMXxLkiRJhRi+JUmSpEI6Fb4j4pDOrJMkSZK0YZ0d+f5SJ9dJkiRJ2oCBL7cxIpqBg4EhEfHhNpu2B7boycIkSZKkvuZlwzewFfCaut12bdb/AZjcU0VJkiRJfdHLhu/MvBW4NSJmZeZvCtUkSZIk9UkbG/lea+uIuBIY1vY5mfnmnihKkiRJ6os6G76vA74GzARe6rlyJEmSpL6rs+F7TWZ+tUcrkSRJkvq4zt5q8IcRMS0ido6I16796dHKJEmSpD6ms+H7NOA84A5gfv3T0tWdR8TREfHLiFgcERd0sH3riPhOvf2uiBjWZtuF9fpfRsRRXa1FkiRJ6mmdmnaSmcO7e8cRsQVwBXAk0ArMi4jZmflAm2bvA57NzD0j4t3AvwB/ExGjgHcDo4FdgJsjYq/MdD66JEmSXrE6Fb4j4j0drc/M/9uFfR8ILM7MX9f7+DZwHNA2fB8HXFI/vh74ckREvf7bmfkC8EhELK5fb24X6pEkSZJ6VGcvuJzQ5vE2wFuAe4CuhO9dgcfaLLcCb9pQm8xcExG/B3aq19/Z7rm7dqEWSZIkqcd1dtrJB9suR8Qg4Ns9UVB3i4ipwFSA3XffvcHVSJIkqT/r7AWX7T0HdHUe+OPAbm2Wh9brOmwTEQOBHYBlnXwuAJl5ZWY2ZWbTkCFDuliyJEmStPk6O+f7h0DWi1sAI4HvdnHf84ARETGcKji/G/jbdm1mU91pZS4wGfh5ZmZEzAauiYjPUV1wOQK4u4v1SJIkST2qs3O+L2vzeA3wm8xs7cqO6znc04EbqQL9v2Xm/RExA2jJzNnAVcA36wsql1MFdOp236W6OHMNcLZ3OpEkSdIrXWTmxlsBEfF6/nzh5d2Z+UyPVdVDmpqasqWly7cnlyRJkjYoIuZnZlNH2zo15zsiTqSa1jEFOBG4KyImd1+JkiRJUt/X2WknFwET1o52R8QQ4Gaqe29LkiRJ6oTO3u1kQLtpJss24bmSJEmS6PzI908i4kbg2nr5b4D/1zMlSZIkSX3Ty4bviNgTeH1mnhcRJwCH1pvmAlf3dHGSJElSX7Kxke8vABcCZOb3gO8BRMS+9bZjerA2SZIkqU/Z2Lzt12fmfe1X1uuG9UhFkiRJUh+1sfA96GW2vaob65AkSZL6vI2F75aI+ED7lRHxfmB+z5QkSZIk9U0bm/P998D3I+Jk/hy2m4CtgP/Vg3VJkiRJfc7Lhu/MfBo4OCL+GhhTr/5xZv68xyuTJEmS+phO3ec7M+cAc3q4FkmSJKlP81sqJUmSpEIM35IkSVIhhm9JkiSpEMO3JEmSVIjhW5IkSSrE8C1JkiQVYviWJEmSCjF8S5IkSYUYviVJkqRCDN+SJElSIYZvSZIkqRDDtyRJklSI4VuSJEkqxPAtSZIkFWL4liRJkgoxfEuSJEmFGL4lSZKkQgzfkiRJUiGGb0mSJKkQw7ckSZJUiOFbkiRJKsTwLUmSJBVi+JYkSZIKMXxLkiRJhRi+JUmSpEIM35IkSVIhhm9JkiSpEMO3JEmSVIjhW5IkSSrE8C1JkiQVYviWJEmSCjF8S5IkSYUYviVJkqRCDN+SJElSIYZvSZIkqRDDtyRJklSI4VuSJEkqxPAtSZIkFWL4liRJkgppSPiOiNdGxE8j4qH6vztuoN1pdZuHIuK0et2rI+LHEbEoIu6PiE+VrV6SJEnaPI0a+b4A+FlmjgB+Vi+vJyJeC1wMvAk4ELi4TUi/LDP3AfYDDomIt5cpW5IkSdp8jQrfxwHfqB9/Azi+gzZHAT/NzOWZ+SzwU+DozFyZmXMAMnM1cA8wtOdLliRJkrqmUeH79Zn5ZP34KeD1HbTZFXiszXJrvW6diBgEHEM1et6hiJgaES0R0bJkyZIuFS1JkiR1xcCeeuGIuBl4QwebLmq7kJkZEbkZrz8QuBa4PDN/vaF2mXklcCVAU1PTJu9HkiRJ6i49Fr4z860b2hYRT0fEzpn5ZETsDDzTQbPHgSPaLA8FbmmzfCXwUGZ+oevVSpIkST2vUdNOZgOn1Y9PA27ooM2NwNsiYsf6Qsu31euIiI8DOwB/3/OlSpIkSd2jUeH7U8CREfEQ8NZ6mYhoioiZAJm5HPgnYF79MyMzl0fEUKqpK6OAeyJiQUS8vxFvQpIkSdoUkdl/pkE3NTVlS0tLo8uQJElSHxYR8zOzqaNtfsOlJEmSVIjhW5IkSSrE8C1JkiQVYviWJEmSCjF8S5IkSYUYviVJkqRCDN+SJElSIYZvSZIkqRDDtyRJklSI4VuSJEkqxPAtSZIkFWL4liRJkgoxfEuSJEmFGL4lSZKkQgzfkiRJUiGGb0mSJKkQw7ckSZJUiOFbkiRJKsTwLUmSJBVi+JYkSZIKMXxLkiRJhRi+JUmSpEIM35IkSVIhhm9JkiSpEMO3JEmSVIjhW5IkSSrE8C1JkiQVYviWJEmSCjF8S5IkSYUYviVJkqRCDN+SJElSIYZvSZIkqRDDtyRJklSI4VuSJEkqxPAtSZIkFWL4liRJkgoxfEuSJEmFGL4lSZKkQgzfkiRJUiGGb0mSJKkQw7ckSZJUiOFbkiRJKsTwLUmSJBVi+JYkSZIKMXxLkiRJhRi+JUmSpEIM35IkSVIhhm9JkiSpEMO3JEmSVIjhW5IkSSqkIeE7Il4bET+NiIfq/+64gXan1W0eiojTOtg+OyIW9nzFkiRJUtc1auT7AuBnmTkC+Fm9vJ6IeC1wMfAm4EDg4rYhPSJOAFaUKVeSJEnqukaF7+OAb9SPvwEc30Gbo4CfZubyzHwW+ClwNEBEvAb4MPDxni9VkiRJ6h6NCt+vz8wn68dPAa/voM2uwGNtllvrdQD/BHwWWNljFUqSJEndbGBPvXBE3Ay8oYNNF7VdyMyMiNyE1x0P/FVmnhMRwzrRfiowFWD33Xfv7G4kSZKkbtdj4Tsz37qhbRHxdETsnJlPRsTOwDMdNHscOKLN8lDgFqAZaIqIR6nqf11E3JKZR9CBzLwSuBKgqamp0yFfkiRJ6m6NmnYyG1h795LTgBs6aHMj8LaI2LG+0PJtwI2Z+dXM3CUzhwGHAr/aUPCWJEmSXkkaFb4/BRwZEQ8Bb62XiYimiJgJkJnLqeZ2z6t/ZtTrJEmSpF4pMvvPTIympqZsaWlpdBmSJEnqwyJifmY2dbTNb7iUJEmSCjF8S5IkSYUYviVJkqRCDN+SJElSIYZvSZIkqRDDtyRJklSI4VuSJEkqxPAtSZIkFWL4liRJkgoxfEuSJEmFGL4lSZKkQgzfkiRJUiGGb0mSJKkQw7ckSZJUiOFbkiRJKsTwLUmSJBVi+JYkSZIKMXxLkiRJhRi+JUmSpEIM35IkSVIhhm9JkiSpEMO3JEmSVIjhW5IkSSrE8C1JkiQVYviWJEmSCjF8S5IkSYUYviVJkqRCDN+SJElSIYZvSZIkqRDDtyRJklSI4VuSJEkqxPAtSZIkFWL4liRJkgoxfEuSJEmFGL4lSZKkQgzfkiRJUiGGb0mSJKkQw7ckSZJUiOFbkiRJKiQys9E1FBMRS4DfNLqOfmIwsLTRRajH2c/9g/3c99nH/YP9XM4emTmkow39KnyrnIhoycymRtehnmU/9w/2c99nH/cP9vMrg9NOJEmSpEIM35IkSVIhhm/1lCsbXYCKsJ/7B/u577OP+wf7+RXAOd+SJElSIY58S5IkSYUYviVJkqRCDN8qLiK2aHQNkiT1dxERja6hPzJ8q5iIGAGQmS8ZwPs2/6BLvV9EmBH6qIjYESAz07/X5fmLpSIiYixwV0R8AdYFcP/99TERsT1Uf9AbXYu6T0RMioh/jogvRcTgiNiy0TWp+0XE2yLi4oi4HCAz/+Tf6b4nIt4KzI6IY8EA3gj+UqmU54B5wH4R8W9Q/WEHR1f6ioh4O/DvETErIk6MiNc0uiZ1XUQcAHwNuBPYFvgS8M6I2KGhhalbRcQ7gM8CvwSGR8Tt8Oe/0+pztgX2j4h3gQMmpRl61OPqcP00sAg4HdghIj4fESMjYjf/uPd+EXEU8HngcmAh8FZgp4YWpe6yF3BTZs7OzDOAW4B3AodHxEBHzHq/iBgCTAPOzcxvZ+YxwNMRcUiDS1PP+D2wHFgDTIyIwyNiaES8tsF19RuGb/W4zPxTZq4AXgL2ycx3AQcDLcBQcPS7N4uIrYETgX/OzFsz8zJgO+DkxlambnIXsEtEHAyQmV8H7gFOAbZ1xKxPWEk16n1zRGxZn1AlsGdjy1IPmQ/cDFwF/AL4EPBD6gETT6h7noFHPSIiDo6I0yLisIjYpl79ELB9feHlG4B7gTPAjzZ7s8x8AbgI+EmbucC3Aa9e2yYiBjaiNm2eiBhffzI1KjN/TfU/64kRsQ9AZn4VWA2c18g61TVr+xl4Q2bOycyXgDX1CdUvqKYLEhFHRYSfZPVSbX6fR7ZZ/SZge+ApYCLQCgwHp6CUYPhWt4uII6nOoocBXwDOi4j9gB8D06lG0j5INfq9fUTs3JhK1RVtTrAOB5Zl5jOZ+WK9+RngdXW7dwEnOJrSO9Rz938InA18t+6/q4A3AsfV/Q1wN9WIqXqhdv18Q0Sc0a7JQGCriDiRas7/doVLVDdo08/TgOsi4v31YNf/Bc6kuobjHOAm4IiIsJ8L8Ovl1a3qgHUB8ERmfiMiRgMnUP3hvg0YDdydmXPq9lu2CWzqJeoTrG9T/eE+Fvg+cGtm3lZvPwE4HJgDfAI4LjMXN6hcdUL9u7st8F3ga5k5OyKagW8BH6E6aT6dql+fpjp5fmdm3teYirU5NtDPB1H182WZ+bW63T8A76Pq67/LzAcaVbM23Ub6+RNUJ8/fBC7NzBvqWw8OyMxlDSu6H/GjYHWr+pZFzwGnRMT3M/P+iFgJnArsDVyemc/Xc7zT4N371H/Um4AP1ydY11GdYL0zIiIzbwUeo5oTPB440eD9yld/1LwiIlqoPpHaMjPnRsRJVP8D/3BmXhIRQ4H9gPMz87eNrFmbbgP9fGdEvJtqZHRVZs4CHqS6TmdqZj7YwJK1GV6mn08CrgPOzsz9ofriu8x8tpH19jdOO1FP+BbVfMGTI+LVmfkIcAPVKMp4WHcRph+79EJ1v609wdo+M++n6vPngEPrZkuBZcC0ert6j6eAtwCvAsjMu6lOnj8SEX+Vma2Z+UODd6/Xvp9bqPp5ekTsDiwA3mzw7vXa9/M8qn6+NCL2rNe91Ljy+ifDt7pkA/N4f0d1T+8RwOl1QPsF1ZyyNxQsTz2noxOs79fLh9TL4wzevcfa3+XM/ArVxbJfjYgd6hGz/6K6QNr/SfdyG+nn26n6eYvM/G1mPtnIWrX5Ovn7vKaRNfZnzvlWl0TEwMxc0345qq+PPwE4iOqq6h8DHwbeVN89Qb1EPZUk260bAEyh6tvFwLcy8w8R8UXglsz8fgNK1SaKiL2B11Ld9vNPbUfAIuJaYBXVl+sMpPr9PTwzWxtRqzaf/dw/2M+9h+Fbm62+ivp9VLcha83Mb9brt8zMF+sz71dR3e95a+BnfoTZ+3iC1TfVF8X+M/B4/dMCzMrMP7RpcwawCzAOuMRPMnof+7l/sJ97F8O3NktEHAhcDVwC/Am4EPhRZn6k3t4+sP3F6Kle+TzB6puiuh/7t6gugP7v+naCB1Hdu/vTmfn7du23ru/nrl7Efu4f7Ofexznf2lxbUU0vuDozrwWOAk6KiE8A1COjh0fEOfWywbuXqU+wLqeay/0o1f3a/xmgDt4Ds7IyM/8VuMLg3atsT3VdBlR9/CNgS+AkqPo/Ivavt68uX566if3cP9jPvYjhW5vreeD1EfFagPrCnGbg7RHxN3WbpVS3NFLv5AlWH1Xf4vNzVF9+NDGrL924neoOF4dFxKuAQ4An6vb2bS9kP/cP9nPvY/jWZsnM+VRfR/uTNuueAq6g/mbDzLzfizl6NU+w+rb/oroD0akRcVhmvpSZ11DNCd0lMz9f/06rd7Of+wf7uRfxS3a0ySJiq8xcnZnTIuJHEXE7MLn+xR4MjGrzJTqeYfdSmTk/ItaeYB1Yr3sqItY7wWpgieqCzFwVEVcDCVwYEfsALwBDgBUNLU7dxn7uH+zn3sULLrVJImJA/ZEWEXEh1W2LTgB2pZpHNo4qiBvKerG1J1j14x8Bg6hPsKL62ulRwHvxBKvXi4itqD6S/juqW5F9MTP/p7FVqbvZz/2D/dw7GL7Vae2C96eBQzLzkHp5JNWN/Jdl5qONq1Jd5QlW/1TfOjLX9r36Jvu5f7CfX9kM3+qUdoHsMmA0cEzb2wmq9/MES5KknmX41iaJiM8CI4Fj137RSttv0VLv5QmWJEk9z7udqNMiYndgbwzefVKb4P1Zqjndx7T5JktJktQNHPnWJln7TZUG776pPsH6CnC8J1iSJHU/w7ek9XiCJUlSzzF8S5IkSYU451uSJEkqxPAtSZIkFWL4liRJkgoxfEuSJEmFGL4lSZKkQgzfktQPRcRLEbEgIu6PiF9ExP+JiJf9f0JEDIuIvy1VoyT1RYZvSeqfns/M8Zk5GjgSeDtw8UaeMwwwfEtSF3ifb0nqhyJiRWa+ps3yG4F5wGBgD+CbwLb15umZeUdE3AmMBB4BvgFcDnwKOALYGrgiM79e7E1IUi9k+Jakfqh9+K7X/Q7YG/gj8KfMXBURI4BrM7MpIo4Azs3MSXX7qcDrMvPjEbE18N/AlMx8pOBbkaReZWCjC5AkveJsCXw5IsYDLwF7baDd24CxETG5Xt4BGEE1Mi5J6oDhW5K0dtrJS8AzVHO/nwbGUV0btGpDTwM+mJk3FilSkvoAL7iUpH4uIoYAXwO+nNVcxB2AJzPzT8CpwBZ10z8C27V56o3AWRGxZf06e0XEtkiSNsiRb0nqn14VEQuoppisobrA8nP1tq8A/xER7wF+AjxXr78XeCkifgHMAr5IdQeUeyIigCXA8WXKl6TeyQsuJUmSpEKcdiJJkiQVYviWJEmSCjF8S5IkSYUYviVJkqRCDN+SJElSIYZvSZIkqRDDtyRJklSI4VuSJEkq5P8DiVBxcVUcQeAAAAAASUVORK5CYII=\n",
       "datasetInfos": [],
       "metadata": {},
       "removedWidgets": [],
       "type": "image"
      }
     },
     "output_type": "display_data"
    },
    {
     "output_type": "display_data",
     "data": {
      "text/html": [
       "<style scoped>\n",
       "  .ansiout {\n",
       "    display: block;\n",
       "    unicode-bidi: embed;\n",
       "    white-space: pre-wrap;\n",
       "    word-wrap: break-word;\n",
       "    word-break: break-all;\n",
       "    font-family: \"Menlo\", \"Monaco\", \"Consolas\", \"Ubuntu Mono\", \"Source Code Pro\", monospace;\n",
       "    font-size: 13px;\n",
       "    color: #555;\n",
       "    margin-left: 4px;\n",
       "    line-height: 19px;\n",
       "  }\n",
       "</style>"
      ]
     },
     "metadata": {
      "application/vnd.databricks.v1+output": {
       "arguments": {},
       "data": "",
       "errorSummary": "",
       "errorTraceType": null,
       "metadata": {},
       "type": "ipynbError"
      }
     },
     "output_type": "display_data"
    }
   ],
   "source": [
    "from pyspark.sql.functions import to_date\n",
    "\n",
    "# Convert the Date column to date format\n",
    "tweetDf = tweetDf.withColumn(\"Date\", to_date(tweetDf[\"Date\"]))\n",
    "\n",
    "# Extract hashtags along with the date\n",
    "hashtag_with_date = hashtagDf.join(tweetDf.select('TweetID', 'Date'), on='TweetID')\n",
    "\n",
    "# Count hashtags by date\n",
    "hashtag_trends = hashtag_with_date.groupBy('Date', 'Hashtag').count().orderBy('Date')\n",
    "\n",
    "# Show the trends\n",
    "hashtag_trends.show()\n",
    "\n",
    "# Convert to Pandas for visualization\n",
    "hashtag_trends_pd = hashtag_trends.toPandas()\n",
    "\n",
    "# Filter for specific hashtags to visualize\n",
    "specific_hashtags = ['#example1', '#example2']  # Replace with actual hashtags of interest\n",
    "trends_filtered = hashtag_trends_pd[hashtag_trends_pd['Hashtag'].isin(specific_hashtags)]\n",
    "\n",
    "# Plotting\n",
    "plt.figure(figsize=(12, 6))\n",
    "for hashtag in specific_hashtags:\n",
    "    plt.plot(trends_filtered[trends_filtered['Hashtag'] == hashtag]['Date'],\n",
    "             trends_filtered[trends_filtered['Hashtag'] == hashtag]['count'],\n",
    "             label=hashtag)\n",
    "\n",
    "plt.title('Hashtag Trends Over Time')\n",
    "plt.xlabel('Date')\n",
    "plt.ylabel('Count')\n",
    "plt.legend()\n",
    "plt.xticks(rotation=45)\n",
    "plt.show()\n"
   ]
  }
 ],
 "metadata": {
  "application/vnd.databricks.v1+notebook": {
   "computePreferences": null,
   "dashboards": [],
   "environmentMetadata": null,
   "language": "python",
   "notebookMetadata": {
    "pythonIndentUnit": 4
   },
   "notebookName": "Project Databricks_textclas_commdetec",
   "widgets": {}
  }
 },
 "nbformat": 4,
 "nbformat_minor": 0
}
